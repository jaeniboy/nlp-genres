{
 "cells": [
  {
   "cell_type": "code",
   "execution_count": 58,
   "metadata": {},
   "outputs": [],
   "source": [
    "import pandas as pd\n",
    "import numpy as np\n",
    "import re\n",
    "import string\n",
    "import stopwords\n",
    "import spacy\n",
    "import seaborn as sns\n",
    "from tqdm import tqdm\n",
    "tqdm.pandas()"
   ]
  },
  {
   "cell_type": "code",
   "execution_count": 29,
   "metadata": {},
   "outputs": [
    {
     "data": {
      "text/html": [
       "<div>\n",
       "<style scoped>\n",
       "    .dataframe tbody tr th:only-of-type {\n",
       "        vertical-align: middle;\n",
       "    }\n",
       "\n",
       "    .dataframe tbody tr th {\n",
       "        vertical-align: top;\n",
       "    }\n",
       "\n",
       "    .dataframe thead th {\n",
       "        text-align: right;\n",
       "    }\n",
       "</style>\n",
       "<table border=\"1\" class=\"dataframe\">\n",
       "  <thead>\n",
       "    <tr style=\"text-align: right;\">\n",
       "      <th></th>\n",
       "      <th>transcript</th>\n",
       "      <th>gattung</th>\n",
       "    </tr>\n",
       "  </thead>\n",
       "  <tbody>\n",
       "    <tr>\n",
       "      <th>0</th>\n",
       "      <td>Vor der letzten Bundestagswahl waren sie absol...</td>\n",
       "      <td>Umfrage</td>\n",
       "    </tr>\n",
       "    <tr>\n",
       "      <th>1</th>\n",
       "      <td>He ute ist Weltknuddeltag, was es nicht alles ...</td>\n",
       "      <td>Umfrage</td>\n",
       "    </tr>\n",
       "    <tr>\n",
       "      <th>2</th>\n",
       "      <td>47 elf, Grrrls Wasser ja, hat meine Mutter imm...</td>\n",
       "      <td>Umfrage</td>\n",
       "    </tr>\n",
       "    <tr>\n",
       "      <th>3</th>\n",
       "      <td>Ja, meint die Atmosphäre. Im Endeffekt gehört ...</td>\n",
       "      <td>Umfrage</td>\n",
       "    </tr>\n",
       "    <tr>\n",
       "      <th>4</th>\n",
       "      <td>Gestern Abend großes Familienfest, vielleicht ...</td>\n",
       "      <td>Umfrage</td>\n",
       "    </tr>\n",
       "    <tr>\n",
       "      <th>...</th>\n",
       "      <td>...</td>\n",
       "      <td>...</td>\n",
       "    </tr>\n",
       "    <tr>\n",
       "      <th>1356</th>\n",
       "      <td>Da hüpft ein kleines Roboterbein im Kreis, es ...</td>\n",
       "      <td>Bericht</td>\n",
       "    </tr>\n",
       "    <tr>\n",
       "      <th>1357</th>\n",
       "      <td>Noch ziemlich entspannt muss ich sagen ich kan...</td>\n",
       "      <td>Bericht</td>\n",
       "    </tr>\n",
       "    <tr>\n",
       "      <th>1358</th>\n",
       "      <td>Seit der hier für die Rabattaktion Nein, bishe...</td>\n",
       "      <td>Bericht</td>\n",
       "    </tr>\n",
       "    <tr>\n",
       "      <th>1359</th>\n",
       "      <td>Ich bin Leon Schäfer, 27 Jahre alt, Paar, Leic...</td>\n",
       "      <td>Bericht</td>\n",
       "    </tr>\n",
       "    <tr>\n",
       "      <th>1360</th>\n",
       "      <td>Fangen wir mal an, sie stießen Hebel mit dem s...</td>\n",
       "      <td>Bericht</td>\n",
       "    </tr>\n",
       "  </tbody>\n",
       "</table>\n",
       "<p>1361 rows × 2 columns</p>\n",
       "</div>"
      ],
      "text/plain": [
       "                                             transcript  gattung\n",
       "0     Vor der letzten Bundestagswahl waren sie absol...  Umfrage\n",
       "1     He ute ist Weltknuddeltag, was es nicht alles ...  Umfrage\n",
       "2     47 elf, Grrrls Wasser ja, hat meine Mutter imm...  Umfrage\n",
       "3     Ja, meint die Atmosphäre. Im Endeffekt gehört ...  Umfrage\n",
       "4     Gestern Abend großes Familienfest, vielleicht ...  Umfrage\n",
       "...                                                 ...      ...\n",
       "1356  Da hüpft ein kleines Roboterbein im Kreis, es ...  Bericht\n",
       "1357  Noch ziemlich entspannt muss ich sagen ich kan...  Bericht\n",
       "1358  Seit der hier für die Rabattaktion Nein, bishe...  Bericht\n",
       "1359  Ich bin Leon Schäfer, 27 Jahre alt, Paar, Leic...  Bericht\n",
       "1360  Fangen wir mal an, sie stießen Hebel mit dem s...  Bericht\n",
       "\n",
       "[1361 rows x 2 columns]"
      ]
     },
     "execution_count": 29,
     "metadata": {},
     "output_type": "execute_result"
    }
   ],
   "source": [
    "# load text-data and labels\n",
    "df = pd.read_json(\"testset.json\")\n",
    "df = df[[\"transcript\", \"gattung\"]].copy()\n",
    "df[\"gattung\"] = df[\"gattung\"].apply(lambda x: ' '.join(x))\n",
    "df"
   ]
  },
  {
   "cell_type": "code",
   "execution_count": 16,
   "metadata": {},
   "outputs": [
    {
     "data": {
      "text/html": [
       "<div>\n",
       "<style scoped>\n",
       "    .dataframe tbody tr th:only-of-type {\n",
       "        vertical-align: middle;\n",
       "    }\n",
       "\n",
       "    .dataframe tbody tr th {\n",
       "        vertical-align: top;\n",
       "    }\n",
       "\n",
       "    .dataframe thead th {\n",
       "        text-align: right;\n",
       "    }\n",
       "</style>\n",
       "<table border=\"1\" class=\"dataframe\">\n",
       "  <thead>\n",
       "    <tr style=\"text-align: right;\">\n",
       "      <th></th>\n",
       "      <th>0</th>\n",
       "      <th>1</th>\n",
       "      <th>2</th>\n",
       "      <th>3</th>\n",
       "      <th>4</th>\n",
       "      <th>5</th>\n",
       "      <th>6</th>\n",
       "      <th>7</th>\n",
       "      <th>8</th>\n",
       "      <th>9</th>\n",
       "      <th>...</th>\n",
       "      <th>758</th>\n",
       "      <th>759</th>\n",
       "      <th>760</th>\n",
       "      <th>761</th>\n",
       "      <th>762</th>\n",
       "      <th>763</th>\n",
       "      <th>764</th>\n",
       "      <th>765</th>\n",
       "      <th>766</th>\n",
       "      <th>767</th>\n",
       "    </tr>\n",
       "  </thead>\n",
       "  <tbody>\n",
       "    <tr>\n",
       "      <th>0</th>\n",
       "      <td>0.015334</td>\n",
       "      <td>0.021697</td>\n",
       "      <td>-0.074221</td>\n",
       "      <td>0.018726</td>\n",
       "      <td>0.054224</td>\n",
       "      <td>0.003047</td>\n",
       "      <td>-0.045695</td>\n",
       "      <td>-0.042731</td>\n",
       "      <td>0.031384</td>\n",
       "      <td>-0.034351</td>\n",
       "      <td>...</td>\n",
       "      <td>0.001353</td>\n",
       "      <td>0.059067</td>\n",
       "      <td>0.038778</td>\n",
       "      <td>-0.047793</td>\n",
       "      <td>-0.099467</td>\n",
       "      <td>-0.029662</td>\n",
       "      <td>-0.018460</td>\n",
       "      <td>0.026377</td>\n",
       "      <td>-0.080069</td>\n",
       "      <td>-0.034460</td>\n",
       "    </tr>\n",
       "    <tr>\n",
       "      <th>1</th>\n",
       "      <td>0.033938</td>\n",
       "      <td>-0.058571</td>\n",
       "      <td>-0.001600</td>\n",
       "      <td>-0.044148</td>\n",
       "      <td>0.000768</td>\n",
       "      <td>0.023628</td>\n",
       "      <td>0.013234</td>\n",
       "      <td>0.053855</td>\n",
       "      <td>-0.006485</td>\n",
       "      <td>0.011030</td>\n",
       "      <td>...</td>\n",
       "      <td>0.026263</td>\n",
       "      <td>0.066652</td>\n",
       "      <td>0.001898</td>\n",
       "      <td>0.041363</td>\n",
       "      <td>0.008838</td>\n",
       "      <td>0.009436</td>\n",
       "      <td>-0.012497</td>\n",
       "      <td>0.041130</td>\n",
       "      <td>0.082465</td>\n",
       "      <td>-0.057951</td>\n",
       "    </tr>\n",
       "    <tr>\n",
       "      <th>2</th>\n",
       "      <td>0.081729</td>\n",
       "      <td>-0.064281</td>\n",
       "      <td>0.020860</td>\n",
       "      <td>0.002061</td>\n",
       "      <td>0.033784</td>\n",
       "      <td>-0.003755</td>\n",
       "      <td>0.015870</td>\n",
       "      <td>0.066287</td>\n",
       "      <td>-0.030419</td>\n",
       "      <td>-0.023222</td>\n",
       "      <td>...</td>\n",
       "      <td>-0.004218</td>\n",
       "      <td>-0.008564</td>\n",
       "      <td>0.013935</td>\n",
       "      <td>0.020931</td>\n",
       "      <td>-0.046512</td>\n",
       "      <td>0.028335</td>\n",
       "      <td>-0.033194</td>\n",
       "      <td>0.045483</td>\n",
       "      <td>0.053963</td>\n",
       "      <td>-0.023795</td>\n",
       "    </tr>\n",
       "    <tr>\n",
       "      <th>3</th>\n",
       "      <td>0.045513</td>\n",
       "      <td>0.023430</td>\n",
       "      <td>-0.068221</td>\n",
       "      <td>-0.035255</td>\n",
       "      <td>0.052900</td>\n",
       "      <td>0.000517</td>\n",
       "      <td>-0.004210</td>\n",
       "      <td>-0.049304</td>\n",
       "      <td>-0.027615</td>\n",
       "      <td>0.041348</td>\n",
       "      <td>...</td>\n",
       "      <td>0.014499</td>\n",
       "      <td>0.017187</td>\n",
       "      <td>-0.017570</td>\n",
       "      <td>0.052000</td>\n",
       "      <td>-0.007527</td>\n",
       "      <td>-0.046291</td>\n",
       "      <td>0.012363</td>\n",
       "      <td>0.048273</td>\n",
       "      <td>-0.023815</td>\n",
       "      <td>0.014868</td>\n",
       "    </tr>\n",
       "    <tr>\n",
       "      <th>4</th>\n",
       "      <td>0.034394</td>\n",
       "      <td>-0.038432</td>\n",
       "      <td>-0.094265</td>\n",
       "      <td>0.051084</td>\n",
       "      <td>0.087552</td>\n",
       "      <td>-0.032008</td>\n",
       "      <td>-0.014030</td>\n",
       "      <td>0.060532</td>\n",
       "      <td>-0.003444</td>\n",
       "      <td>-0.026032</td>\n",
       "      <td>...</td>\n",
       "      <td>0.036581</td>\n",
       "      <td>0.052977</td>\n",
       "      <td>0.036882</td>\n",
       "      <td>0.033790</td>\n",
       "      <td>0.040435</td>\n",
       "      <td>0.060437</td>\n",
       "      <td>0.029254</td>\n",
       "      <td>0.046991</td>\n",
       "      <td>0.001656</td>\n",
       "      <td>0.000353</td>\n",
       "    </tr>\n",
       "  </tbody>\n",
       "</table>\n",
       "<p>5 rows × 768 columns</p>\n",
       "</div>"
      ],
      "text/plain": [
       "        0         1         2         3         4         5         6    \\\n",
       "0  0.015334  0.021697 -0.074221  0.018726  0.054224  0.003047 -0.045695   \n",
       "1  0.033938 -0.058571 -0.001600 -0.044148  0.000768  0.023628  0.013234   \n",
       "2  0.081729 -0.064281  0.020860  0.002061  0.033784 -0.003755  0.015870   \n",
       "3  0.045513  0.023430 -0.068221 -0.035255  0.052900  0.000517 -0.004210   \n",
       "4  0.034394 -0.038432 -0.094265  0.051084  0.087552 -0.032008 -0.014030   \n",
       "\n",
       "        7         8         9    ...       758       759       760       761  \\\n",
       "0 -0.042731  0.031384 -0.034351  ...  0.001353  0.059067  0.038778 -0.047793   \n",
       "1  0.053855 -0.006485  0.011030  ...  0.026263  0.066652  0.001898  0.041363   \n",
       "2  0.066287 -0.030419 -0.023222  ... -0.004218 -0.008564  0.013935  0.020931   \n",
       "3 -0.049304 -0.027615  0.041348  ...  0.014499  0.017187 -0.017570  0.052000   \n",
       "4  0.060532 -0.003444 -0.026032  ...  0.036581  0.052977  0.036882  0.033790   \n",
       "\n",
       "        762       763       764       765       766       767  \n",
       "0 -0.099467 -0.029662 -0.018460  0.026377 -0.080069 -0.034460  \n",
       "1  0.008838  0.009436 -0.012497  0.041130  0.082465 -0.057951  \n",
       "2 -0.046512  0.028335 -0.033194  0.045483  0.053963 -0.023795  \n",
       "3 -0.007527 -0.046291  0.012363  0.048273 -0.023815  0.014868  \n",
       "4  0.040435  0.060437  0.029254  0.046991  0.001656  0.000353  \n",
       "\n",
       "[5 rows x 768 columns]"
      ]
     },
     "execution_count": 16,
     "metadata": {},
     "output_type": "execute_result"
    }
   ],
   "source": [
    "# load embeddings\n",
    "embeddings = pd.read_json(\"embeddings.json\")\n",
    "embeddings.head()"
   ]
  },
  {
   "cell_type": "code",
   "execution_count": 30,
   "metadata": {},
   "outputs": [],
   "source": [
    "df[\"embedding\"] = embeddings.apply(lambda row: ', '.join(row.astype(str)), axis=1)"
   ]
  },
  {
   "cell_type": "code",
   "execution_count": 31,
   "metadata": {},
   "outputs": [
    {
     "data": {
      "text/html": [
       "<div>\n",
       "<style scoped>\n",
       "    .dataframe tbody tr th:only-of-type {\n",
       "        vertical-align: middle;\n",
       "    }\n",
       "\n",
       "    .dataframe tbody tr th {\n",
       "        vertical-align: top;\n",
       "    }\n",
       "\n",
       "    .dataframe thead th {\n",
       "        text-align: right;\n",
       "    }\n",
       "</style>\n",
       "<table border=\"1\" class=\"dataframe\">\n",
       "  <thead>\n",
       "    <tr style=\"text-align: right;\">\n",
       "      <th></th>\n",
       "      <th>transcript</th>\n",
       "      <th>gattung</th>\n",
       "      <th>embedding</th>\n",
       "    </tr>\n",
       "  </thead>\n",
       "  <tbody>\n",
       "    <tr>\n",
       "      <th>count</th>\n",
       "      <td>1361</td>\n",
       "      <td>1361</td>\n",
       "      <td>1361</td>\n",
       "    </tr>\n",
       "    <tr>\n",
       "      <th>unique</th>\n",
       "      <td>1344</td>\n",
       "      <td>8</td>\n",
       "      <td>1344</td>\n",
       "    </tr>\n",
       "    <tr>\n",
       "      <th>top</th>\n",
       "      <td></td>\n",
       "      <td>Statement</td>\n",
       "      <td>-0.030148252844810004, -0.005122783593833001, ...</td>\n",
       "    </tr>\n",
       "    <tr>\n",
       "      <th>freq</th>\n",
       "      <td>18</td>\n",
       "      <td>200</td>\n",
       "      <td>18</td>\n",
       "    </tr>\n",
       "  </tbody>\n",
       "</table>\n",
       "</div>"
      ],
      "text/plain": [
       "       transcript    gattung  \\\n",
       "count        1361       1361   \n",
       "unique       1344          8   \n",
       "top                Statement   \n",
       "freq           18        200   \n",
       "\n",
       "                                                embedding  \n",
       "count                                                1361  \n",
       "unique                                               1344  \n",
       "top     -0.030148252844810004, -0.005122783593833001, ...  \n",
       "freq                                                   18  "
      ]
     },
     "execution_count": 31,
     "metadata": {},
     "output_type": "execute_result"
    }
   ],
   "source": [
    "df.describe(include='object')"
   ]
  },
  {
   "cell_type": "code",
   "execution_count": 32,
   "metadata": {},
   "outputs": [
    {
     "data": {
      "text/plain": [
       "gattung\n",
       "                              1\n",
       "Bericht                     194\n",
       "Bericht in Interviewform    200\n",
       "Glosse                      191\n",
       "Interview                   182\n",
       "Reportage                   198\n",
       "Statement                   200\n",
       "Umfrage                     195\n",
       "Name: gattung, dtype: int64"
      ]
     },
     "execution_count": 32,
     "metadata": {},
     "output_type": "execute_result"
    }
   ],
   "source": [
    "# are there items without genre value\n",
    "balance_counts = df.groupby(\"gattung\")[\"gattung\"].agg(\"count\")\n",
    "balance_counts "
   ]
  },
  {
   "cell_type": "code",
   "execution_count": 33,
   "metadata": {},
   "outputs": [],
   "source": [
    "# remove item without genre value\n",
    "df = df[df[\"gattung\"] != \"\"]"
   ]
  },
  {
   "cell_type": "code",
   "execution_count": 40,
   "metadata": {},
   "outputs": [
    {
     "name": "stderr",
     "output_type": "stream",
     "text": [
      "C:\\Users\\janfs\\AppData\\Local\\Temp\\ipykernel_17136\\815462363.py:13: SettingWithCopyWarning: \n",
      "A value is trying to be set on a copy of a slice from a DataFrame.\n",
      "Try using .loc[row_indexer,col_indexer] = value instead\n",
      "\n",
      "See the caveats in the documentation: https://pandas.pydata.org/pandas-docs/stable/user_guide/indexing.html#returning-a-view-versus-a-copy\n",
      "  df[\"word_count\"] = df[\"transcript\"].apply(word_count)\n",
      "C:\\Users\\janfs\\AppData\\Local\\Temp\\ipykernel_17136\\815462363.py:14: SettingWithCopyWarning: \n",
      "A value is trying to be set on a copy of a slice from a DataFrame.\n",
      "Try using .loc[row_indexer,col_indexer] = value instead\n",
      "\n",
      "See the caveats in the documentation: https://pandas.pydata.org/pandas-docs/stable/user_guide/indexing.html#returning-a-view-versus-a-copy\n",
      "  df[\"char_count\"] = df[\"transcript\"].apply(char_count)\n",
      "C:\\Users\\janfs\\AppData\\Local\\Temp\\ipykernel_17136\\815462363.py:15: SettingWithCopyWarning: \n",
      "A value is trying to be set on a copy of a slice from a DataFrame.\n",
      "Try using .loc[row_indexer,col_indexer] = value instead\n",
      "\n",
      "See the caveats in the documentation: https://pandas.pydata.org/pandas-docs/stable/user_guide/indexing.html#returning-a-view-versus-a-copy\n",
      "  df[\"avr_sentence_length\"] = df[\"transcript\"].apply(avr_sentence_length)\n"
     ]
    },
    {
     "data": {
      "text/html": [
       "<div>\n",
       "<style scoped>\n",
       "    .dataframe tbody tr th:only-of-type {\n",
       "        vertical-align: middle;\n",
       "    }\n",
       "\n",
       "    .dataframe tbody tr th {\n",
       "        vertical-align: top;\n",
       "    }\n",
       "\n",
       "    .dataframe thead th {\n",
       "        text-align: right;\n",
       "    }\n",
       "</style>\n",
       "<table border=\"1\" class=\"dataframe\">\n",
       "  <thead>\n",
       "    <tr style=\"text-align: right;\">\n",
       "      <th></th>\n",
       "      <th>transcript</th>\n",
       "      <th>gattung</th>\n",
       "      <th>embedding</th>\n",
       "      <th>word_count</th>\n",
       "      <th>char_count</th>\n",
       "      <th>clean_text</th>\n",
       "      <th>avr_sentence_length</th>\n",
       "    </tr>\n",
       "  </thead>\n",
       "  <tbody>\n",
       "    <tr>\n",
       "      <th>0</th>\n",
       "      <td>Vor der letzten Bundestagswahl waren sie absol...</td>\n",
       "      <td>Umfrage</td>\n",
       "      <td>0.015333812683820001, 0.021696707233786, -0.07...</td>\n",
       "      <td>262</td>\n",
       "      <td>1643</td>\n",
       "      <td>vor der letzten bundestagswahl waren sie absol...</td>\n",
       "      <td>73.73</td>\n",
       "    </tr>\n",
       "    <tr>\n",
       "      <th>1</th>\n",
       "      <td>He ute ist Weltknuddeltag, was es nicht alles ...</td>\n",
       "      <td>Umfrage</td>\n",
       "      <td>0.033938158303499, -0.058570936322212004, -0.0...</td>\n",
       "      <td>290</td>\n",
       "      <td>1759</td>\n",
       "      <td>he ute ist weltknuddeltag was es nicht alles g...</td>\n",
       "      <td>66.69</td>\n",
       "    </tr>\n",
       "    <tr>\n",
       "      <th>2</th>\n",
       "      <td>47 elf, Grrrls Wasser ja, hat meine Mutter imm...</td>\n",
       "      <td>Umfrage</td>\n",
       "      <td>0.08172919601202, -0.06428052484989101, 0.0208...</td>\n",
       "      <td>222</td>\n",
       "      <td>1323</td>\n",
       "      <td>47 elf grrrls wasser ja hat meine mutter immer...</td>\n",
       "      <td>59.18</td>\n",
       "    </tr>\n",
       "    <tr>\n",
       "      <th>3</th>\n",
       "      <td>Ja, meint die Atmosphäre. Im Endeffekt gehört ...</td>\n",
       "      <td>Umfrage</td>\n",
       "      <td>0.045513272285461, 0.023429902270436002, -0.06...</td>\n",
       "      <td>115</td>\n",
       "      <td>702</td>\n",
       "      <td>ja meint die atmosphäre im endeffekt gehört di...</td>\n",
       "      <td>77.11</td>\n",
       "    </tr>\n",
       "    <tr>\n",
       "      <th>4</th>\n",
       "      <td>Gestern Abend großes Familienfest, vielleicht ...</td>\n",
       "      <td>Umfrage</td>\n",
       "      <td>0.034393869340419006, -0.038432110100984004, -...</td>\n",
       "      <td>333</td>\n",
       "      <td>2062</td>\n",
       "      <td>gestern abend großes familienfest vielleicht d...</td>\n",
       "      <td>67.77</td>\n",
       "    </tr>\n",
       "    <tr>\n",
       "      <th>...</th>\n",
       "      <td>...</td>\n",
       "      <td>...</td>\n",
       "      <td>...</td>\n",
       "      <td>...</td>\n",
       "      <td>...</td>\n",
       "      <td>...</td>\n",
       "      <td>...</td>\n",
       "    </tr>\n",
       "    <tr>\n",
       "      <th>1356</th>\n",
       "      <td>Da hüpft ein kleines Roboterbein im Kreis, es ...</td>\n",
       "      <td>Bericht</td>\n",
       "      <td>0.046196766197681004, 0.041371896862983, -0.07...</td>\n",
       "      <td>276</td>\n",
       "      <td>1894</td>\n",
       "      <td>da hüpft ein kleines roboterbein im kreis es s...</td>\n",
       "      <td>93.75</td>\n",
       "    </tr>\n",
       "    <tr>\n",
       "      <th>1357</th>\n",
       "      <td>Noch ziemlich entspannt muss ich sagen ich kan...</td>\n",
       "      <td>Bericht</td>\n",
       "      <td>0.050470415502786005, 0.022042037919163003, -0...</td>\n",
       "      <td>346</td>\n",
       "      <td>2194</td>\n",
       "      <td>noch ziemlich entspannt muss ich sagen ich kan...</td>\n",
       "      <td>90.46</td>\n",
       "    </tr>\n",
       "    <tr>\n",
       "      <th>1358</th>\n",
       "      <td>Seit der hier für die Rabattaktion Nein, bishe...</td>\n",
       "      <td>Bericht</td>\n",
       "      <td>0.103638991713523, -0.041198708117008, -0.0684...</td>\n",
       "      <td>437</td>\n",
       "      <td>2638</td>\n",
       "      <td>seit der hier für die rabattaktion nein bisher...</td>\n",
       "      <td>66.67</td>\n",
       "    </tr>\n",
       "    <tr>\n",
       "      <th>1359</th>\n",
       "      <td>Ich bin Leon Schäfer, 27 Jahre alt, Paar, Leic...</td>\n",
       "      <td>Bericht</td>\n",
       "      <td>0.06876039505004801, -0.022558914497494, -0.06...</td>\n",
       "      <td>204</td>\n",
       "      <td>1251</td>\n",
       "      <td>ich bin leon schäfer 27 jahre alt paar leichta...</td>\n",
       "      <td>112.82</td>\n",
       "    </tr>\n",
       "    <tr>\n",
       "      <th>1360</th>\n",
       "      <td>Fangen wir mal an, sie stießen Hebel mit dem s...</td>\n",
       "      <td>Bericht</td>\n",
       "      <td>0.021741900593042002, 0.027910660952329, -0.02...</td>\n",
       "      <td>205</td>\n",
       "      <td>1232</td>\n",
       "      <td>fangen wir mal an sie stießen hebel mit dem sc...</td>\n",
       "      <td>50.38</td>\n",
       "    </tr>\n",
       "  </tbody>\n",
       "</table>\n",
       "<p>1360 rows × 7 columns</p>\n",
       "</div>"
      ],
      "text/plain": [
       "                                             transcript  gattung  \\\n",
       "0     Vor der letzten Bundestagswahl waren sie absol...  Umfrage   \n",
       "1     He ute ist Weltknuddeltag, was es nicht alles ...  Umfrage   \n",
       "2     47 elf, Grrrls Wasser ja, hat meine Mutter imm...  Umfrage   \n",
       "3     Ja, meint die Atmosphäre. Im Endeffekt gehört ...  Umfrage   \n",
       "4     Gestern Abend großes Familienfest, vielleicht ...  Umfrage   \n",
       "...                                                 ...      ...   \n",
       "1356  Da hüpft ein kleines Roboterbein im Kreis, es ...  Bericht   \n",
       "1357  Noch ziemlich entspannt muss ich sagen ich kan...  Bericht   \n",
       "1358  Seit der hier für die Rabattaktion Nein, bishe...  Bericht   \n",
       "1359  Ich bin Leon Schäfer, 27 Jahre alt, Paar, Leic...  Bericht   \n",
       "1360  Fangen wir mal an, sie stießen Hebel mit dem s...  Bericht   \n",
       "\n",
       "                                              embedding  word_count  \\\n",
       "0     0.015333812683820001, 0.021696707233786, -0.07...         262   \n",
       "1     0.033938158303499, -0.058570936322212004, -0.0...         290   \n",
       "2     0.08172919601202, -0.06428052484989101, 0.0208...         222   \n",
       "3     0.045513272285461, 0.023429902270436002, -0.06...         115   \n",
       "4     0.034393869340419006, -0.038432110100984004, -...         333   \n",
       "...                                                 ...         ...   \n",
       "1356  0.046196766197681004, 0.041371896862983, -0.07...         276   \n",
       "1357  0.050470415502786005, 0.022042037919163003, -0...         346   \n",
       "1358  0.103638991713523, -0.041198708117008, -0.0684...         437   \n",
       "1359  0.06876039505004801, -0.022558914497494, -0.06...         204   \n",
       "1360  0.021741900593042002, 0.027910660952329, -0.02...         205   \n",
       "\n",
       "      char_count                                         clean_text  \\\n",
       "0           1643  vor der letzten bundestagswahl waren sie absol...   \n",
       "1           1759  he ute ist weltknuddeltag was es nicht alles g...   \n",
       "2           1323  47 elf grrrls wasser ja hat meine mutter immer...   \n",
       "3            702  ja meint die atmosphäre im endeffekt gehört di...   \n",
       "4           2062  gestern abend großes familienfest vielleicht d...   \n",
       "...          ...                                                ...   \n",
       "1356        1894  da hüpft ein kleines roboterbein im kreis es s...   \n",
       "1357        2194  noch ziemlich entspannt muss ich sagen ich kan...   \n",
       "1358        2638  seit der hier für die rabattaktion nein bisher...   \n",
       "1359        1251  ich bin leon schäfer 27 jahre alt paar leichta...   \n",
       "1360        1232  fangen wir mal an sie stießen hebel mit dem sc...   \n",
       "\n",
       "      avr_sentence_length  \n",
       "0                   73.73  \n",
       "1                   66.69  \n",
       "2                   59.18  \n",
       "3                   77.11  \n",
       "4                   67.77  \n",
       "...                   ...  \n",
       "1356                93.75  \n",
       "1357                90.46  \n",
       "1358                66.67  \n",
       "1359               112.82  \n",
       "1360                50.38  \n",
       "\n",
       "[1360 rows x 7 columns]"
      ]
     },
     "execution_count": 40,
     "metadata": {},
     "output_type": "execute_result"
    }
   ],
   "source": [
    "def word_count(text):\n",
    "    return len(text.split(\" \"))\n",
    "\n",
    "def char_count(text):\n",
    "    return len(text)\n",
    "\n",
    "def avr_sentence_length(text):\n",
    "    sentences = text.split(\".\")\n",
    "    lengths = [len(sentence) for sentence in sentences]\n",
    "    mean = np.asarray(lengths).mean().round(2)\n",
    "    return mean\n",
    "\n",
    "df[\"word_count\"] = df[\"transcript\"].apply(word_count)\n",
    "df[\"char_count\"] = df[\"transcript\"].apply(char_count)\n",
    "df[\"avr_sentence_length\"] = df[\"transcript\"].apply(avr_sentence_length)\n",
    "df.head()"
   ]
  },
  {
   "cell_type": "code",
   "execution_count": 41,
   "metadata": {},
   "outputs": [
    {
     "data": {
      "text/plain": [
       "gattung\n",
       "Bericht                     2727.0\n",
       "Bericht in Interviewform    3311.0\n",
       "Glosse                      1944.0\n",
       "Interview                   5099.0\n",
       "Reportage                   3144.0\n",
       "Statement                    790.0\n",
       "Umfrage                     1507.0\n",
       "Name: char_count, dtype: float64"
      ]
     },
     "execution_count": 41,
     "metadata": {},
     "output_type": "execute_result"
    }
   ],
   "source": [
    "char_count_by_category = df.groupby(\"gattung\")[\"char_count\"].agg(\"mean\").round(0)\n",
    "char_count_by_category"
   ]
  },
  {
   "cell_type": "code",
   "execution_count": 45,
   "metadata": {},
   "outputs": [
    {
     "data": {
      "text/plain": [
       "gattung\n",
       "Bericht                     425.0\n",
       "Bericht in Interviewform    516.0\n",
       "Glosse                      310.0\n",
       "Interview                   829.0\n",
       "Reportage                   503.0\n",
       "Statement                   127.0\n",
       "Umfrage                     249.0\n",
       "Name: word_count, dtype: float64"
      ]
     },
     "execution_count": 45,
     "metadata": {},
     "output_type": "execute_result"
    }
   ],
   "source": [
    "word_count_by_category = df.groupby(\"gattung\")[\"word_count\"].agg(\"mean\").round(0)\n",
    "word_count_by_category"
   ]
  },
  {
   "cell_type": "code",
   "execution_count": 43,
   "metadata": {},
   "outputs": [
    {
     "data": {
      "text/plain": [
       "gattung\n",
       "Bericht                     92.0\n",
       "Bericht in Interviewform    96.0\n",
       "Glosse                      89.0\n",
       "Interview                   98.0\n",
       "Reportage                   87.0\n",
       "Statement                   92.0\n",
       "Umfrage                     79.0\n",
       "Name: avr_sentence_length, dtype: float64"
      ]
     },
     "execution_count": 43,
     "metadata": {},
     "output_type": "execute_result"
    }
   ],
   "source": [
    "sentence_length_by_category = df.groupby(\"gattung\")[\"avr_sentence_length\"].agg(\"mean\").round(0)\n",
    "sentence_length_by_category"
   ]
  },
  {
   "cell_type": "code",
   "execution_count": 68,
   "metadata": {},
   "outputs": [
    {
     "data": {
      "text/plain": [
       "[Text(0.5, 0, 'word count'),\n",
       " Text(0, 0.5, 'avarage sentence length'),\n",
       " Text(0.5, 1.0, 'Word Count vs. Satzlänge (nach Gattung)')]"
      ]
     },
     "execution_count": 68,
     "metadata": {},
     "output_type": "execute_result"
    },
    {
     "data": {
      "image/png": "[encoded data removed]",
      "text/plain": [
       "<Figure size 640x480 with 1 Axes>"
      ]
     },
     "metadata": {},
     "output_type": "display_data"
    }
   ],
   "source": [
    "# Scatterplot mit Seaborn (handhabt Kategorien automatisch)\n",
    "ax = sns.scatterplot(\n",
    "    data=df,\n",
    "    x='word_count',\n",
    "    y='avr_sentence_length',\n",
    "    hue='gattung',  # Direkte Verwendung der Textkategorien\n",
    "    palette='viridis',\n",
    "    alpha=0.7\n",
    ")\n",
    "ax.set(xlabel=\"word count\", ylabel=\"avarage sentence length\", title='Word Count vs. Satzlänge (nach Gattung)')"
   ]
  },
  {
   "cell_type": "markdown",
   "metadata": {},
   "source": [
    "Hier gibt es einige üble Ausreißer bei der Anzahl der Wörter. Ich kürze die überlangen Texte auf den Durchschnitt der jeweiligen Gattung"
   ]
  },
  {
   "cell_type": "code",
   "execution_count": 89,
   "metadata": {},
   "outputs": [
    {
     "data": {
      "text/html": [
       "<div>\n",
       "<style scoped>\n",
       "    .dataframe tbody tr th:only-of-type {\n",
       "        vertical-align: middle;\n",
       "    }\n",
       "\n",
       "    .dataframe tbody tr th {\n",
       "        vertical-align: top;\n",
       "    }\n",
       "\n",
       "    .dataframe thead th {\n",
       "        text-align: right;\n",
       "    }\n",
       "</style>\n",
       "<table border=\"1\" class=\"dataframe\">\n",
       "  <thead>\n",
       "    <tr style=\"text-align: right;\">\n",
       "      <th></th>\n",
       "      <th>transcript</th>\n",
       "      <th>gattung</th>\n",
       "      <th>embedding</th>\n",
       "      <th>word_count</th>\n",
       "      <th>char_count</th>\n",
       "      <th>clean_text</th>\n",
       "      <th>avr_sentence_length</th>\n",
       "      <th>gattung_code</th>\n",
       "      <th>text_stopwordless</th>\n",
       "    </tr>\n",
       "  </thead>\n",
       "  <tbody>\n",
       "    <tr>\n",
       "      <th>0</th>\n",
       "      <td>Vor der letzten Bundestagswahl waren sie absol...</td>\n",
       "      <td>Umfrage</td>\n",
       "      <td>0.015333812683820001, 0.021696707233786, -0.07...</td>\n",
       "      <td>262</td>\n",
       "      <td>1643</td>\n",
       "      <td>vor der letzten bundestagswahl waren sie absol...</td>\n",
       "      <td>73.73</td>\n",
       "      <td>6</td>\n",
       "      <td>letzten bundestagswahl waren absolut umfrageho...</td>\n",
       "    </tr>\n",
       "    <tr>\n",
       "      <th>1</th>\n",
       "      <td>He ute ist Weltknuddeltag, was es nicht alles ...</td>\n",
       "      <td>Umfrage</td>\n",
       "      <td>0.033938158303499, -0.058570936322212004, -0.0...</td>\n",
       "      <td>290</td>\n",
       "      <td>1759</td>\n",
       "      <td>he ute ist weltknuddeltag was es nicht alles g...</td>\n",
       "      <td>66.69</td>\n",
       "      <td>6</td>\n",
       "      <td>he ute weltknuddeltag alles gibt weltknuddelta...</td>\n",
       "    </tr>\n",
       "    <tr>\n",
       "      <th>2</th>\n",
       "      <td>47 elf, Grrrls Wasser ja, hat meine Mutter imm...</td>\n",
       "      <td>Umfrage</td>\n",
       "      <td>0.08172919601202, -0.06428052484989101, 0.0208...</td>\n",
       "      <td>222</td>\n",
       "      <td>1323</td>\n",
       "      <td>47 elf grrrls wasser ja hat meine mutter immer...</td>\n",
       "      <td>59.18</td>\n",
       "      <td>6</td>\n",
       "      <td>47 elf grrrls wasser hat mutter immer gekauft ...</td>\n",
       "    </tr>\n",
       "    <tr>\n",
       "      <th>3</th>\n",
       "      <td>Ja, meint die Atmosphäre. Im Endeffekt gehört ...</td>\n",
       "      <td>Umfrage</td>\n",
       "      <td>0.045513272285461, 0.023429902270436002, -0.06...</td>\n",
       "      <td>115</td>\n",
       "      <td>702</td>\n",
       "      <td>ja meint die atmosphäre im endeffekt gehört di...</td>\n",
       "      <td>77.11</td>\n",
       "      <td>6</td>\n",
       "      <td>meint atmosphäre endeffekt gehört leute allem ...</td>\n",
       "    </tr>\n",
       "    <tr>\n",
       "      <th>4</th>\n",
       "      <td>Gestern Abend großes Familienfest, vielleicht ...</td>\n",
       "      <td>Umfrage</td>\n",
       "      <td>0.034393869340419006, -0.038432110100984004, -...</td>\n",
       "      <td>333</td>\n",
       "      <td>2062</td>\n",
       "      <td>gestern abend großes familienfest vielleicht d...</td>\n",
       "      <td>67.77</td>\n",
       "      <td>6</td>\n",
       "      <td>gestern abend großes familienfest vielleicht i...</td>\n",
       "    </tr>\n",
       "    <tr>\n",
       "      <th>...</th>\n",
       "      <td>...</td>\n",
       "      <td>...</td>\n",
       "      <td>...</td>\n",
       "      <td>...</td>\n",
       "      <td>...</td>\n",
       "      <td>...</td>\n",
       "      <td>...</td>\n",
       "      <td>...</td>\n",
       "      <td>...</td>\n",
       "    </tr>\n",
       "    <tr>\n",
       "      <th>1356</th>\n",
       "      <td>Da hüpft ein kleines Roboterbein im Kreis, es ...</td>\n",
       "      <td>Bericht</td>\n",
       "      <td>0.046196766197681004, 0.041371896862983, -0.07...</td>\n",
       "      <td>276</td>\n",
       "      <td>1894</td>\n",
       "      <td>da hüpft ein kleines roboterbein im kreis es s...</td>\n",
       "      <td>93.75</td>\n",
       "      <td>0</td>\n",
       "      <td>hüpft kleines roboterbein kreis sieht känguru ...</td>\n",
       "    </tr>\n",
       "    <tr>\n",
       "      <th>1357</th>\n",
       "      <td>Noch ziemlich entspannt muss ich sagen ich kan...</td>\n",
       "      <td>Bericht</td>\n",
       "      <td>0.050470415502786005, 0.022042037919163003, -0...</td>\n",
       "      <td>346</td>\n",
       "      <td>2194</td>\n",
       "      <td>noch ziemlich entspannt muss ich sagen ich kan...</td>\n",
       "      <td>90.46</td>\n",
       "      <td>0</td>\n",
       "      <td>noch ziemlich entspannt muss sagen glaube leug...</td>\n",
       "    </tr>\n",
       "    <tr>\n",
       "      <th>1358</th>\n",
       "      <td>Seit der hier für die Rabattaktion Nein, bishe...</td>\n",
       "      <td>Bericht</td>\n",
       "      <td>0.103638991713523, -0.041198708117008, -0.0684...</td>\n",
       "      <td>437</td>\n",
       "      <td>2638</td>\n",
       "      <td>seit der hier für die rabattaktion nein bisher...</td>\n",
       "      <td>66.67</td>\n",
       "      <td>0</td>\n",
       "      <td>seit hier rabattaktion bisherigen beschlüsse s...</td>\n",
       "    </tr>\n",
       "    <tr>\n",
       "      <th>1359</th>\n",
       "      <td>Ich bin Leon Schäfer, 27 Jahre alt, Paar, Leic...</td>\n",
       "      <td>Bericht</td>\n",
       "      <td>0.06876039505004801, -0.022558914497494, -0.06...</td>\n",
       "      <td>204</td>\n",
       "      <td>1251</td>\n",
       "      <td>ich bin leon schäfer 27 jahre alt paar leichta...</td>\n",
       "      <td>112.82</td>\n",
       "      <td>0</td>\n",
       "      <td>leon schäfer 27 jahre alt paar leichtathlet st...</td>\n",
       "    </tr>\n",
       "    <tr>\n",
       "      <th>1360</th>\n",
       "      <td>Fangen wir mal an, sie stießen Hebel mit dem s...</td>\n",
       "      <td>Bericht</td>\n",
       "      <td>0.021741900593042002, 0.027910660952329, -0.02...</td>\n",
       "      <td>205</td>\n",
       "      <td>1232</td>\n",
       "      <td>fangen wir mal an sie stießen hebel mit dem sc...</td>\n",
       "      <td>50.38</td>\n",
       "      <td>0</td>\n",
       "      <td>fangen mal stießen hebel schwarzen knopf drauf...</td>\n",
       "    </tr>\n",
       "  </tbody>\n",
       "</table>\n",
       "<p>1360 rows × 9 columns</p>\n",
       "</div>"
      ],
      "text/plain": [
       "                                             transcript  gattung  \\\n",
       "0     Vor der letzten Bundestagswahl waren sie absol...  Umfrage   \n",
       "1     He ute ist Weltknuddeltag, was es nicht alles ...  Umfrage   \n",
       "2     47 elf, Grrrls Wasser ja, hat meine Mutter imm...  Umfrage   \n",
       "3     Ja, meint die Atmosphäre. Im Endeffekt gehört ...  Umfrage   \n",
       "4     Gestern Abend großes Familienfest, vielleicht ...  Umfrage   \n",
       "...                                                 ...      ...   \n",
       "1356  Da hüpft ein kleines Roboterbein im Kreis, es ...  Bericht   \n",
       "1357  Noch ziemlich entspannt muss ich sagen ich kan...  Bericht   \n",
       "1358  Seit der hier für die Rabattaktion Nein, bishe...  Bericht   \n",
       "1359  Ich bin Leon Schäfer, 27 Jahre alt, Paar, Leic...  Bericht   \n",
       "1360  Fangen wir mal an, sie stießen Hebel mit dem s...  Bericht   \n",
       "\n",
       "                                              embedding  word_count  \\\n",
       "0     0.015333812683820001, 0.021696707233786, -0.07...         262   \n",
       "1     0.033938158303499, -0.058570936322212004, -0.0...         290   \n",
       "2     0.08172919601202, -0.06428052484989101, 0.0208...         222   \n",
       "3     0.045513272285461, 0.023429902270436002, -0.06...         115   \n",
       "4     0.034393869340419006, -0.038432110100984004, -...         333   \n",
       "...                                                 ...         ...   \n",
       "1356  0.046196766197681004, 0.041371896862983, -0.07...         276   \n",
       "1357  0.050470415502786005, 0.022042037919163003, -0...         346   \n",
       "1358  0.103638991713523, -0.041198708117008, -0.0684...         437   \n",
       "1359  0.06876039505004801, -0.022558914497494, -0.06...         204   \n",
       "1360  0.021741900593042002, 0.027910660952329, -0.02...         205   \n",
       "\n",
       "      char_count                                         clean_text  \\\n",
       "0           1643  vor der letzten bundestagswahl waren sie absol...   \n",
       "1           1759  he ute ist weltknuddeltag was es nicht alles g...   \n",
       "2           1323  47 elf grrrls wasser ja hat meine mutter immer...   \n",
       "3            702  ja meint die atmosphäre im endeffekt gehört di...   \n",
       "4           2062  gestern abend großes familienfest vielleicht d...   \n",
       "...          ...                                                ...   \n",
       "1356        1894  da hüpft ein kleines roboterbein im kreis es s...   \n",
       "1357        2194  noch ziemlich entspannt muss ich sagen ich kan...   \n",
       "1358        2638  seit der hier für die rabattaktion nein bisher...   \n",
       "1359        1251  ich bin leon schäfer 27 jahre alt paar leichta...   \n",
       "1360        1232  fangen wir mal an sie stießen hebel mit dem sc...   \n",
       "\n",
       "      avr_sentence_length  gattung_code  \\\n",
       "0                   73.73             6   \n",
       "1                   66.69             6   \n",
       "2                   59.18             6   \n",
       "3                   77.11             6   \n",
       "4                   67.77             6   \n",
       "...                   ...           ...   \n",
       "1356                93.75             0   \n",
       "1357                90.46             0   \n",
       "1358                66.67             0   \n",
       "1359               112.82             0   \n",
       "1360                50.38             0   \n",
       "\n",
       "                                      text_stopwordless  \n",
       "0     letzten bundestagswahl waren absolut umfrageho...  \n",
       "1     he ute weltknuddeltag alles gibt weltknuddelta...  \n",
       "2     47 elf grrrls wasser hat mutter immer gekauft ...  \n",
       "3     meint atmosphäre endeffekt gehört leute allem ...  \n",
       "4     gestern abend großes familienfest vielleicht i...  \n",
       "...                                                 ...  \n",
       "1356  hüpft kleines roboterbein kreis sieht känguru ...  \n",
       "1357  noch ziemlich entspannt muss sagen glaube leug...  \n",
       "1358  seit hier rabattaktion bisherigen beschlüsse s...  \n",
       "1359  leon schäfer 27 jahre alt paar leichtathlet st...  \n",
       "1360  fangen mal stießen hebel schwarzen knopf drauf...  \n",
       "\n",
       "[1360 rows x 9 columns]"
      ]
     },
     "execution_count": 89,
     "metadata": {},
     "output_type": "execute_result"
    }
   ],
   "source": [
    "df"
   ]
  },
  {
   "cell_type": "code",
   "execution_count": 98,
   "metadata": {},
   "outputs": [
    {
     "name": "stderr",
     "output_type": "stream",
     "text": [
      "C:\\Users\\janfs\\AppData\\Local\\Temp\\ipykernel_17136\\1058519101.py:8: SettingWithCopyWarning: \n",
      "A value is trying to be set on a copy of a slice from a DataFrame.\n",
      "Try using .loc[row_indexer,col_indexer] = value instead\n",
      "\n",
      "See the caveats in the documentation: https://pandas.pydata.org/pandas-docs/stable/user_guide/indexing.html#returning-a-view-versus-a-copy\n",
      "  df[\"transcript\"] = df.apply(lambda row: truncate_long_text(row[\"transcript\"],row[\"gattung\"]), axis=1)\n"
     ]
    }
   ],
   "source": [
    "def truncate_long_text(text, category):\n",
    "    words = text.split(\" \")\n",
    "    if len(words) < 3000:\n",
    "        return text\n",
    "    else:\n",
    "        return \" \".join(words[:word_count_by_category[category].astype(int)])\n",
    "\n",
    "df[\"transcript\"] = df.apply(lambda row: truncate_long_text(row[\"transcript\"],row[\"gattung\"]), axis=1)"
   ]
  },
  {
   "cell_type": "code",
   "execution_count": 99,
   "metadata": {},
   "outputs": [
    {
     "name": "stderr",
     "output_type": "stream",
     "text": [
      "C:\\Users\\janfs\\AppData\\Local\\Temp\\ipykernel_17136\\1977437811.py:1: SettingWithCopyWarning: \n",
      "A value is trying to be set on a copy of a slice from a DataFrame.\n",
      "Try using .loc[row_indexer,col_indexer] = value instead\n",
      "\n",
      "See the caveats in the documentation: https://pandas.pydata.org/pandas-docs/stable/user_guide/indexing.html#returning-a-view-versus-a-copy\n",
      "  df[\"word_count\"] = df[\"transcript\"].apply(word_count)\n"
     ]
    }
   ],
   "source": [
    "df[\"word_count\"] = df[\"transcript\"].apply(word_count)"
   ]
  },
  {
   "cell_type": "code",
   "execution_count": 101,
   "metadata": {},
   "outputs": [
    {
     "data": {
      "text/plain": [
       "[Text(0.5, 0, 'word count'),\n",
       " Text(0, 0.5, 'avarage sentence length'),\n",
       " Text(0.5, 1.0, 'Word Count vs. Satzlänge (nach Gattung)')]"
      ]
     },
     "execution_count": 101,
     "metadata": {},
     "output_type": "execute_result"
    },
    {
     "data": {
      "image/png": "[encoded data removed]",
      "text/plain": [
       "<Figure size 640x480 with 1 Axes>"
      ]
     },
     "metadata": {},
     "output_type": "display_data"
    }
   ],
   "source": [
    "# Scatterplot mit Seaborn (handhabt Kategorien automatisch)\n",
    "ax = sns.scatterplot(\n",
    "    data=df,\n",
    "    x='word_count',\n",
    "    y='avr_sentence_length',\n",
    "    hue='gattung',  # Direkte Verwendung der Textkategorien\n",
    "    palette='viridis',\n",
    "    alpha=0.7\n",
    ")\n",
    "ax.set(xlabel=\"word count\", ylabel=\"avarage sentence length\", title='Word Count vs. Satzlänge (nach Gattung)')"
   ]
  },
  {
   "cell_type": "code",
   "execution_count": 102,
   "metadata": {},
   "outputs": [
    {
     "name": "stderr",
     "output_type": "stream",
     "text": [
      "C:\\Users\\janfs\\AppData\\Local\\Temp\\ipykernel_17136\\513554491.py:7: SettingWithCopyWarning: \n",
      "A value is trying to be set on a copy of a slice from a DataFrame.\n",
      "Try using .loc[row_indexer,col_indexer] = value instead\n",
      "\n",
      "See the caveats in the documentation: https://pandas.pydata.org/pandas-docs/stable/user_guide/indexing.html#returning-a-view-versus-a-copy\n",
      "  df[\"clean_text\"] = df[\"transcript\"].apply(clean)\n"
     ]
    },
    {
     "data": {
      "text/plain": [
       "'he ute ist weltknuddeltag was es nicht alles gibt weltknuddeltag existiert schon seit 38 jahren und wurde ins leben gerufen und leuten vor augen zu führen wie wichtig so eine kurze umarmung so ein kurzes knuddeln fürs wohlbefinden sein kann unser reporter jens alenia hat nachgehakt und gefragt wann haben sie denn das letzte mal geknuddelt und wen mein mann meine freundin mein freund ist knüller mir von meiner oma mutter vater tante cousine großtante da kommt es ja aus dem knuddel nicht mehr raus das ist auch gut so meine freundin deren mann knuddel ist wie knuddeln den mann ihrer freunde ja natürlich wir sind uns sehr lange vertraute freunde ein bisschen körperkontakt muss schon sein auf jeden fall also schob ein teddybär den ich gern knuddele jeden abend eine bettdecke gibt es irgendeine bekannte persönlichkeit die sie ger ne mal knuddeln würden j taylor swift justin timberlake vielleicht denen würde ich knuddeln ja alle so süß ist ich glaub fremde leute knuddelt ich gar nicht so gerne jetzt wird umarmt und geherzt der weltknuddeltag steht an gibt es auch irgendwelche tiere die sie gerne knuddeln katzen hunde verde eine seekuh weil ich mit denen mal schnorcheln war in florida und die sind so toll diese frau möchte eine seekuh knuddeln knuddeln kann man immer ja guckst du mich nicht so erwartungsvoll an ja ich will auch gar nicht von ihnen geknuddelt werden nicht jetzt schon sagen dass das irgendwie wichtig ist für die körperliche nähe auf jeden fall also körperkontakt man bekommt näher und fühlt sich einfach noch so ein bisschen wohl jeder tag sollte knödeltag sein ach wie schön oder warum ist das eigentlich so warum tut knuddeln so gut das klären war mal in 20 minuten'"
      ]
     },
     "execution_count": 102,
     "metadata": {},
     "output_type": "execute_result"
    }
   ],
   "source": [
    "def clean(text):\n",
    "    text = str(text).lower()\n",
    "    text = re.sub(\"-\",\" \", text)\n",
    "    text = re.sub('[%s]' % re.escape(string.punctuation), '', text)\n",
    "    return text\n",
    "\n",
    "df[\"clean_text\"] = df[\"transcript\"].apply(clean)\n",
    "df.loc[1][\"clean_text\"]"
   ]
  },
  {
   "cell_type": "code",
   "execution_count": null,
   "metadata": {},
   "outputs": [],
   "source": []
  },
  {
   "cell_type": "code",
   "execution_count": 104,
   "metadata": {},
   "outputs": [
    {
     "name": "stderr",
     "output_type": "stream",
     "text": [
      "C:\\Users\\janfs\\AppData\\Local\\Temp\\ipykernel_17136\\1698058450.py:6: SettingWithCopyWarning: \n",
      "A value is trying to be set on a copy of a slice from a DataFrame.\n",
      "Try using .loc[row_indexer,col_indexer] = value instead\n",
      "\n",
      "See the caveats in the documentation: https://pandas.pydata.org/pandas-docs/stable/user_guide/indexing.html#returning-a-view-versus-a-copy\n",
      "  df[\"text_stopwordless\"] = df[\"clean_text\"].apply(remove_stopwords)\n"
     ]
    },
    {
     "data": {
      "text/html": [
       "<div>\n",
       "<style scoped>\n",
       "    .dataframe tbody tr th:only-of-type {\n",
       "        vertical-align: middle;\n",
       "    }\n",
       "\n",
       "    .dataframe tbody tr th {\n",
       "        vertical-align: top;\n",
       "    }\n",
       "\n",
       "    .dataframe thead th {\n",
       "        text-align: right;\n",
       "    }\n",
       "</style>\n",
       "<table border=\"1\" class=\"dataframe\">\n",
       "  <thead>\n",
       "    <tr style=\"text-align: right;\">\n",
       "      <th></th>\n",
       "      <th>transcript</th>\n",
       "      <th>gattung</th>\n",
       "      <th>embedding</th>\n",
       "      <th>word_count</th>\n",
       "      <th>char_count</th>\n",
       "      <th>clean_text</th>\n",
       "      <th>avr_sentence_length</th>\n",
       "      <th>gattung_code</th>\n",
       "      <th>text_stopwordless</th>\n",
       "      <th>text_truncated</th>\n",
       "    </tr>\n",
       "  </thead>\n",
       "  <tbody>\n",
       "    <tr>\n",
       "      <th>0</th>\n",
       "      <td>Vor der letzten Bundestagswahl waren sie absol...</td>\n",
       "      <td>Umfrage</td>\n",
       "      <td>0.015333812683820001, 0.021696707233786, -0.07...</td>\n",
       "      <td>262</td>\n",
       "      <td>1643</td>\n",
       "      <td>vor der letzten bundestagswahl waren sie absol...</td>\n",
       "      <td>73.73</td>\n",
       "      <td>6</td>\n",
       "      <td>letzten bundestagswahl waren absolut umfrageho...</td>\n",
       "      <td>Vor der letzten Bundestagswahl waren sie absol...</td>\n",
       "    </tr>\n",
       "    <tr>\n",
       "      <th>1</th>\n",
       "      <td>He ute ist Weltknuddeltag, was es nicht alles ...</td>\n",
       "      <td>Umfrage</td>\n",
       "      <td>0.033938158303499, -0.058570936322212004, -0.0...</td>\n",
       "      <td>290</td>\n",
       "      <td>1759</td>\n",
       "      <td>he ute ist weltknuddeltag was es nicht alles g...</td>\n",
       "      <td>66.69</td>\n",
       "      <td>6</td>\n",
       "      <td>he ute weltknuddeltag alles gibt weltknuddelta...</td>\n",
       "      <td>He ute ist Weltknuddeltag, was es nicht alles ...</td>\n",
       "    </tr>\n",
       "    <tr>\n",
       "      <th>2</th>\n",
       "      <td>47 elf, Grrrls Wasser ja, hat meine Mutter imm...</td>\n",
       "      <td>Umfrage</td>\n",
       "      <td>0.08172919601202, -0.06428052484989101, 0.0208...</td>\n",
       "      <td>222</td>\n",
       "      <td>1323</td>\n",
       "      <td>47 elf grrrls wasser ja hat meine mutter immer...</td>\n",
       "      <td>59.18</td>\n",
       "      <td>6</td>\n",
       "      <td>47 elf grrrls wasser hat mutter immer gekauft ...</td>\n",
       "      <td>47 elf, Grrrls Wasser ja, hat meine Mutter imm...</td>\n",
       "    </tr>\n",
       "    <tr>\n",
       "      <th>3</th>\n",
       "      <td>Ja, meint die Atmosphäre. Im Endeffekt gehört ...</td>\n",
       "      <td>Umfrage</td>\n",
       "      <td>0.045513272285461, 0.023429902270436002, -0.06...</td>\n",
       "      <td>115</td>\n",
       "      <td>702</td>\n",
       "      <td>ja meint die atmosphäre im endeffekt gehört di...</td>\n",
       "      <td>77.11</td>\n",
       "      <td>6</td>\n",
       "      <td>meint atmosphäre endeffekt gehört leute allem ...</td>\n",
       "      <td>Ja, meint die Atmosphäre. Im Endeffekt gehört ...</td>\n",
       "    </tr>\n",
       "    <tr>\n",
       "      <th>4</th>\n",
       "      <td>Gestern Abend großes Familienfest, vielleicht ...</td>\n",
       "      <td>Umfrage</td>\n",
       "      <td>0.034393869340419006, -0.038432110100984004, -...</td>\n",
       "      <td>333</td>\n",
       "      <td>2062</td>\n",
       "      <td>gestern abend großes familienfest vielleicht d...</td>\n",
       "      <td>67.77</td>\n",
       "      <td>6</td>\n",
       "      <td>gestern abend großes familienfest vielleicht i...</td>\n",
       "      <td>Gestern Abend großes Familienfest, vielleicht ...</td>\n",
       "    </tr>\n",
       "    <tr>\n",
       "      <th>...</th>\n",
       "      <td>...</td>\n",
       "      <td>...</td>\n",
       "      <td>...</td>\n",
       "      <td>...</td>\n",
       "      <td>...</td>\n",
       "      <td>...</td>\n",
       "      <td>...</td>\n",
       "      <td>...</td>\n",
       "      <td>...</td>\n",
       "      <td>...</td>\n",
       "    </tr>\n",
       "    <tr>\n",
       "      <th>1356</th>\n",
       "      <td>Da hüpft ein kleines Roboterbein im Kreis, es ...</td>\n",
       "      <td>Bericht</td>\n",
       "      <td>0.046196766197681004, 0.041371896862983, -0.07...</td>\n",
       "      <td>276</td>\n",
       "      <td>1894</td>\n",
       "      <td>da hüpft ein kleines roboterbein im kreis es s...</td>\n",
       "      <td>93.75</td>\n",
       "      <td>0</td>\n",
       "      <td>hüpft kleines roboterbein kreis sieht känguru ...</td>\n",
       "      <td>Da hüpft ein kleines Roboterbein im Kreis, es ...</td>\n",
       "    </tr>\n",
       "    <tr>\n",
       "      <th>1357</th>\n",
       "      <td>Noch ziemlich entspannt muss ich sagen ich kan...</td>\n",
       "      <td>Bericht</td>\n",
       "      <td>0.050470415502786005, 0.022042037919163003, -0...</td>\n",
       "      <td>346</td>\n",
       "      <td>2194</td>\n",
       "      <td>noch ziemlich entspannt muss ich sagen ich kan...</td>\n",
       "      <td>90.46</td>\n",
       "      <td>0</td>\n",
       "      <td>noch ziemlich entspannt muss sagen glaube leug...</td>\n",
       "      <td>Noch ziemlich entspannt muss ich sagen ich kan...</td>\n",
       "    </tr>\n",
       "    <tr>\n",
       "      <th>1358</th>\n",
       "      <td>Seit der hier für die Rabattaktion Nein, bishe...</td>\n",
       "      <td>Bericht</td>\n",
       "      <td>0.103638991713523, -0.041198708117008, -0.0684...</td>\n",
       "      <td>437</td>\n",
       "      <td>2638</td>\n",
       "      <td>seit der hier für die rabattaktion nein bisher...</td>\n",
       "      <td>66.67</td>\n",
       "      <td>0</td>\n",
       "      <td>seit hier rabattaktion bisherigen beschlüsse s...</td>\n",
       "      <td>Seit der hier für die Rabattaktion Nein, bishe...</td>\n",
       "    </tr>\n",
       "    <tr>\n",
       "      <th>1359</th>\n",
       "      <td>Ich bin Leon Schäfer, 27 Jahre alt, Paar, Leic...</td>\n",
       "      <td>Bericht</td>\n",
       "      <td>0.06876039505004801, -0.022558914497494, -0.06...</td>\n",
       "      <td>204</td>\n",
       "      <td>1251</td>\n",
       "      <td>ich bin leon schäfer 27 jahre alt paar leichta...</td>\n",
       "      <td>112.82</td>\n",
       "      <td>0</td>\n",
       "      <td>leon schäfer 27 jahre alt paar leichtathlet st...</td>\n",
       "      <td>Ich bin Leon Schäfer, 27 Jahre alt, Paar, Leic...</td>\n",
       "    </tr>\n",
       "    <tr>\n",
       "      <th>1360</th>\n",
       "      <td>Fangen wir mal an, sie stießen Hebel mit dem s...</td>\n",
       "      <td>Bericht</td>\n",
       "      <td>0.021741900593042002, 0.027910660952329, -0.02...</td>\n",
       "      <td>205</td>\n",
       "      <td>1232</td>\n",
       "      <td>fangen wir mal an sie stießen hebel mit dem sc...</td>\n",
       "      <td>50.38</td>\n",
       "      <td>0</td>\n",
       "      <td>fangen mal stießen hebel schwarzen knopf drauf...</td>\n",
       "      <td>Fangen wir mal an, sie stießen Hebel mit dem s...</td>\n",
       "    </tr>\n",
       "  </tbody>\n",
       "</table>\n",
       "<p>1360 rows × 10 columns</p>\n",
       "</div>"
      ],
      "text/plain": [
       "                                             transcript  gattung  \\\n",
       "0     Vor der letzten Bundestagswahl waren sie absol...  Umfrage   \n",
       "1     He ute ist Weltknuddeltag, was es nicht alles ...  Umfrage   \n",
       "2     47 elf, Grrrls Wasser ja, hat meine Mutter imm...  Umfrage   \n",
       "3     Ja, meint die Atmosphäre. Im Endeffekt gehört ...  Umfrage   \n",
       "4     Gestern Abend großes Familienfest, vielleicht ...  Umfrage   \n",
       "...                                                 ...      ...   \n",
       "1356  Da hüpft ein kleines Roboterbein im Kreis, es ...  Bericht   \n",
       "1357  Noch ziemlich entspannt muss ich sagen ich kan...  Bericht   \n",
       "1358  Seit der hier für die Rabattaktion Nein, bishe...  Bericht   \n",
       "1359  Ich bin Leon Schäfer, 27 Jahre alt, Paar, Leic...  Bericht   \n",
       "1360  Fangen wir mal an, sie stießen Hebel mit dem s...  Bericht   \n",
       "\n",
       "                                              embedding  word_count  \\\n",
       "0     0.015333812683820001, 0.021696707233786, -0.07...         262   \n",
       "1     0.033938158303499, -0.058570936322212004, -0.0...         290   \n",
       "2     0.08172919601202, -0.06428052484989101, 0.0208...         222   \n",
       "3     0.045513272285461, 0.023429902270436002, -0.06...         115   \n",
       "4     0.034393869340419006, -0.038432110100984004, -...         333   \n",
       "...                                                 ...         ...   \n",
       "1356  0.046196766197681004, 0.041371896862983, -0.07...         276   \n",
       "1357  0.050470415502786005, 0.022042037919163003, -0...         346   \n",
       "1358  0.103638991713523, -0.041198708117008, -0.0684...         437   \n",
       "1359  0.06876039505004801, -0.022558914497494, -0.06...         204   \n",
       "1360  0.021741900593042002, 0.027910660952329, -0.02...         205   \n",
       "\n",
       "      char_count                                         clean_text  \\\n",
       "0           1643  vor der letzten bundestagswahl waren sie absol...   \n",
       "1           1759  he ute ist weltknuddeltag was es nicht alles g...   \n",
       "2           1323  47 elf grrrls wasser ja hat meine mutter immer...   \n",
       "3            702  ja meint die atmosphäre im endeffekt gehört di...   \n",
       "4           2062  gestern abend großes familienfest vielleicht d...   \n",
       "...          ...                                                ...   \n",
       "1356        1894  da hüpft ein kleines roboterbein im kreis es s...   \n",
       "1357        2194  noch ziemlich entspannt muss ich sagen ich kan...   \n",
       "1358        2638  seit der hier für die rabattaktion nein bisher...   \n",
       "1359        1251  ich bin leon schäfer 27 jahre alt paar leichta...   \n",
       "1360        1232  fangen wir mal an sie stießen hebel mit dem sc...   \n",
       "\n",
       "      avr_sentence_length  gattung_code  \\\n",
       "0                   73.73             6   \n",
       "1                   66.69             6   \n",
       "2                   59.18             6   \n",
       "3                   77.11             6   \n",
       "4                   67.77             6   \n",
       "...                   ...           ...   \n",
       "1356                93.75             0   \n",
       "1357                90.46             0   \n",
       "1358                66.67             0   \n",
       "1359               112.82             0   \n",
       "1360                50.38             0   \n",
       "\n",
       "                                      text_stopwordless  \\\n",
       "0     letzten bundestagswahl waren absolut umfrageho...   \n",
       "1     he ute weltknuddeltag alles gibt weltknuddelta...   \n",
       "2     47 elf grrrls wasser hat mutter immer gekauft ...   \n",
       "3     meint atmosphäre endeffekt gehört leute allem ...   \n",
       "4     gestern abend großes familienfest vielleicht i...   \n",
       "...                                                 ...   \n",
       "1356  hüpft kleines roboterbein kreis sieht känguru ...   \n",
       "1357  noch ziemlich entspannt muss sagen glaube leug...   \n",
       "1358  seit hier rabattaktion bisherigen beschlüsse s...   \n",
       "1359  leon schäfer 27 jahre alt paar leichtathlet st...   \n",
       "1360  fangen mal stießen hebel schwarzen knopf drauf...   \n",
       "\n",
       "                                         text_truncated  \n",
       "0     Vor der letzten Bundestagswahl waren sie absol...  \n",
       "1     He ute ist Weltknuddeltag, was es nicht alles ...  \n",
       "2     47 elf, Grrrls Wasser ja, hat meine Mutter imm...  \n",
       "3     Ja, meint die Atmosphäre. Im Endeffekt gehört ...  \n",
       "4     Gestern Abend großes Familienfest, vielleicht ...  \n",
       "...                                                 ...  \n",
       "1356  Da hüpft ein kleines Roboterbein im Kreis, es ...  \n",
       "1357  Noch ziemlich entspannt muss ich sagen ich kan...  \n",
       "1358  Seit der hier für die Rabattaktion Nein, bishe...  \n",
       "1359  Ich bin Leon Schäfer, 27 Jahre alt, Paar, Leic...  \n",
       "1360  Fangen wir mal an, sie stießen Hebel mit dem s...  \n",
       "\n",
       "[1360 rows x 10 columns]"
      ]
     },
     "execution_count": 104,
     "metadata": {},
     "output_type": "execute_result"
    }
   ],
   "source": [
    "stop_words = stopwords.get_stopwords(\"de\")\n",
    "\n",
    "def remove_stopwords(text):\n",
    "    return \" \".join([word for word in text.split(\" \") if word not in stop_words])\n",
    "\n",
    "df[\"text_stopwordless\"] = df[\"clean_text\"].apply(remove_stopwords)\n",
    "df"
   ]
  },
  {
   "cell_type": "code",
   "execution_count": 47,
   "metadata": {},
   "outputs": [],
   "source": [
    "nlp = spacy.load('de_core_news_md')"
   ]
  },
  {
   "cell_type": "code",
   "execution_count": 48,
   "metadata": {},
   "outputs": [
    {
     "name": "stderr",
     "output_type": "stream",
     "text": [
      " 18%|█▊        | 239/1360 [00:15<01:14, 14.97it/s]\n"
     ]
    },
    {
     "ename": "KeyboardInterrupt",
     "evalue": "",
     "output_type": "error",
     "traceback": [
      "\u001b[1;31m---------------------------------------------------------------------------\u001b[0m",
      "\u001b[1;31mKeyboardInterrupt\u001b[0m                         Traceback (most recent call last)",
      "Cell \u001b[1;32mIn[48], line 6\u001b[0m\n\u001b[0;32m      3\u001b[0m     tokens \u001b[38;5;241m=\u001b[39m [tok\u001b[38;5;241m.\u001b[39mtext \u001b[38;5;28;01mfor\u001b[39;00m tok \u001b[38;5;129;01min\u001b[39;00m doc]\n\u001b[0;32m      4\u001b[0m     \u001b[38;5;28;01mreturn\u001b[39;00m tokens\n\u001b[1;32m----> 6\u001b[0m df[\u001b[38;5;124m\"\u001b[39m\u001b[38;5;124mtokens\u001b[39m\u001b[38;5;124m\"\u001b[39m] \u001b[38;5;241m=\u001b[39m \u001b[43mdf\u001b[49m\u001b[43m[\u001b[49m\u001b[38;5;124;43m\"\u001b[39;49m\u001b[38;5;124;43mtranscript\u001b[39;49m\u001b[38;5;124;43m\"\u001b[39;49m\u001b[43m]\u001b[49m\u001b[38;5;241;43m.\u001b[39;49m\u001b[43mprogress_apply\u001b[49m\u001b[43m(\u001b[49m\u001b[43mtokenize\u001b[49m\u001b[43m)\u001b[49m\n\u001b[0;32m      7\u001b[0m df\u001b[38;5;241m.\u001b[39mhead()\n",
      "File \u001b[1;32m~\\AppData\\Local\\Packages\\PythonSoftwareFoundation.Python.3.10_qbz5n2kfra8p0\\LocalCache\\local-packages\\Python310\\site-packages\\tqdm\\std.py:917\u001b[0m, in \u001b[0;36mtqdm.pandas.<locals>.inner_generator.<locals>.inner\u001b[1;34m(df, func, *args, **kwargs)\u001b[0m\n\u001b[0;32m    914\u001b[0m \u001b[38;5;66;03m# Apply the provided function (in **kwargs)\u001b[39;00m\n\u001b[0;32m    915\u001b[0m \u001b[38;5;66;03m# on the df using our wrapper (which provides bar updating)\u001b[39;00m\n\u001b[0;32m    916\u001b[0m \u001b[38;5;28;01mtry\u001b[39;00m:\n\u001b[1;32m--> 917\u001b[0m     \u001b[38;5;28;01mreturn\u001b[39;00m \u001b[38;5;28mgetattr\u001b[39m(df, df_function)(wrapper, \u001b[38;5;241m*\u001b[39m\u001b[38;5;241m*\u001b[39mkwargs)\n\u001b[0;32m    918\u001b[0m \u001b[38;5;28;01mfinally\u001b[39;00m:\n\u001b[0;32m    919\u001b[0m     t\u001b[38;5;241m.\u001b[39mclose()\n",
      "File \u001b[1;32m~\\AppData\\Local\\Packages\\PythonSoftwareFoundation.Python.3.10_qbz5n2kfra8p0\\LocalCache\\local-packages\\Python310\\site-packages\\pandas\\core\\series.py:4630\u001b[0m, in \u001b[0;36mSeries.apply\u001b[1;34m(self, func, convert_dtype, args, **kwargs)\u001b[0m\n\u001b[0;32m   4520\u001b[0m \u001b[38;5;28;01mdef\u001b[39;00m \u001b[38;5;21mapply\u001b[39m(\n\u001b[0;32m   4521\u001b[0m     \u001b[38;5;28mself\u001b[39m,\n\u001b[0;32m   4522\u001b[0m     func: AggFuncType,\n\u001b[1;32m   (...)\u001b[0m\n\u001b[0;32m   4525\u001b[0m     \u001b[38;5;241m*\u001b[39m\u001b[38;5;241m*\u001b[39mkwargs,\n\u001b[0;32m   4526\u001b[0m ) \u001b[38;5;241m-\u001b[39m\u001b[38;5;241m>\u001b[39m DataFrame \u001b[38;5;241m|\u001b[39m Series:\n\u001b[0;32m   4527\u001b[0m \u001b[38;5;250m    \u001b[39m\u001b[38;5;124;03m\"\"\"\u001b[39;00m\n\u001b[0;32m   4528\u001b[0m \u001b[38;5;124;03m    Invoke function on values of Series.\u001b[39;00m\n\u001b[0;32m   4529\u001b[0m \n\u001b[1;32m   (...)\u001b[0m\n\u001b[0;32m   4628\u001b[0m \u001b[38;5;124;03m    dtype: float64\u001b[39;00m\n\u001b[0;32m   4629\u001b[0m \u001b[38;5;124;03m    \"\"\"\u001b[39;00m\n\u001b[1;32m-> 4630\u001b[0m     \u001b[38;5;28;01mreturn\u001b[39;00m \u001b[43mSeriesApply\u001b[49m\u001b[43m(\u001b[49m\u001b[38;5;28;43mself\u001b[39;49m\u001b[43m,\u001b[49m\u001b[43m \u001b[49m\u001b[43mfunc\u001b[49m\u001b[43m,\u001b[49m\u001b[43m \u001b[49m\u001b[43mconvert_dtype\u001b[49m\u001b[43m,\u001b[49m\u001b[43m \u001b[49m\u001b[43margs\u001b[49m\u001b[43m,\u001b[49m\u001b[43m \u001b[49m\u001b[43mkwargs\u001b[49m\u001b[43m)\u001b[49m\u001b[38;5;241;43m.\u001b[39;49m\u001b[43mapply\u001b[49m\u001b[43m(\u001b[49m\u001b[43m)\u001b[49m\n",
      "File \u001b[1;32m~\\AppData\\Local\\Packages\\PythonSoftwareFoundation.Python.3.10_qbz5n2kfra8p0\\LocalCache\\local-packages\\Python310\\site-packages\\pandas\\core\\apply.py:1025\u001b[0m, in \u001b[0;36mSeriesApply.apply\u001b[1;34m(self)\u001b[0m\n\u001b[0;32m   1022\u001b[0m     \u001b[38;5;28;01mreturn\u001b[39;00m \u001b[38;5;28mself\u001b[39m\u001b[38;5;241m.\u001b[39mapply_str()\n\u001b[0;32m   1024\u001b[0m \u001b[38;5;66;03m# self.f is Callable\u001b[39;00m\n\u001b[1;32m-> 1025\u001b[0m \u001b[38;5;28;01mreturn\u001b[39;00m \u001b[38;5;28;43mself\u001b[39;49m\u001b[38;5;241;43m.\u001b[39;49m\u001b[43mapply_standard\u001b[49m\u001b[43m(\u001b[49m\u001b[43m)\u001b[49m\n",
      "File \u001b[1;32m~\\AppData\\Local\\Packages\\PythonSoftwareFoundation.Python.3.10_qbz5n2kfra8p0\\LocalCache\\local-packages\\Python310\\site-packages\\pandas\\core\\apply.py:1076\u001b[0m, in \u001b[0;36mSeriesApply.apply_standard\u001b[1;34m(self)\u001b[0m\n\u001b[0;32m   1074\u001b[0m     \u001b[38;5;28;01melse\u001b[39;00m:\n\u001b[0;32m   1075\u001b[0m         values \u001b[38;5;241m=\u001b[39m obj\u001b[38;5;241m.\u001b[39mastype(\u001b[38;5;28mobject\u001b[39m)\u001b[38;5;241m.\u001b[39m_values\n\u001b[1;32m-> 1076\u001b[0m         mapped \u001b[38;5;241m=\u001b[39m \u001b[43mlib\u001b[49m\u001b[38;5;241;43m.\u001b[39;49m\u001b[43mmap_infer\u001b[49m\u001b[43m(\u001b[49m\n\u001b[0;32m   1077\u001b[0m \u001b[43m            \u001b[49m\u001b[43mvalues\u001b[49m\u001b[43m,\u001b[49m\n\u001b[0;32m   1078\u001b[0m \u001b[43m            \u001b[49m\u001b[43mf\u001b[49m\u001b[43m,\u001b[49m\n\u001b[0;32m   1079\u001b[0m \u001b[43m            \u001b[49m\u001b[43mconvert\u001b[49m\u001b[38;5;241;43m=\u001b[39;49m\u001b[38;5;28;43mself\u001b[39;49m\u001b[38;5;241;43m.\u001b[39;49m\u001b[43mconvert_dtype\u001b[49m\u001b[43m,\u001b[49m\n\u001b[0;32m   1080\u001b[0m \u001b[43m        \u001b[49m\u001b[43m)\u001b[49m\n\u001b[0;32m   1082\u001b[0m \u001b[38;5;28;01mif\u001b[39;00m \u001b[38;5;28mlen\u001b[39m(mapped) \u001b[38;5;129;01mand\u001b[39;00m \u001b[38;5;28misinstance\u001b[39m(mapped[\u001b[38;5;241m0\u001b[39m], ABCSeries):\n\u001b[0;32m   1083\u001b[0m     \u001b[38;5;66;03m# GH#43986 Need to do list(mapped) in order to get treated as nested\u001b[39;00m\n\u001b[0;32m   1084\u001b[0m     \u001b[38;5;66;03m#  See also GH#25959 regarding EA support\u001b[39;00m\n\u001b[0;32m   1085\u001b[0m     \u001b[38;5;28;01mreturn\u001b[39;00m obj\u001b[38;5;241m.\u001b[39m_constructor_expanddim(\u001b[38;5;28mlist\u001b[39m(mapped), index\u001b[38;5;241m=\u001b[39mobj\u001b[38;5;241m.\u001b[39mindex)\n",
      "File \u001b[1;32m~\\AppData\\Local\\Packages\\PythonSoftwareFoundation.Python.3.10_qbz5n2kfra8p0\\LocalCache\\local-packages\\Python310\\site-packages\\pandas\\_libs\\lib.pyx:2834\u001b[0m, in \u001b[0;36mpandas._libs.lib.map_infer\u001b[1;34m()\u001b[0m\n",
      "File \u001b[1;32m~\\AppData\\Local\\Packages\\PythonSoftwareFoundation.Python.3.10_qbz5n2kfra8p0\\LocalCache\\local-packages\\Python310\\site-packages\\tqdm\\std.py:912\u001b[0m, in \u001b[0;36mtqdm.pandas.<locals>.inner_generator.<locals>.inner.<locals>.wrapper\u001b[1;34m(*args, **kwargs)\u001b[0m\n\u001b[0;32m    906\u001b[0m \u001b[38;5;28;01mdef\u001b[39;00m \u001b[38;5;21mwrapper\u001b[39m(\u001b[38;5;241m*\u001b[39margs, \u001b[38;5;241m*\u001b[39m\u001b[38;5;241m*\u001b[39mkwargs):\n\u001b[0;32m    907\u001b[0m     \u001b[38;5;66;03m# update tbar correctly\u001b[39;00m\n\u001b[0;32m    908\u001b[0m     \u001b[38;5;66;03m# it seems `pandas apply` calls `func` twice\u001b[39;00m\n\u001b[0;32m    909\u001b[0m     \u001b[38;5;66;03m# on the first column/row to decide whether it can\u001b[39;00m\n\u001b[0;32m    910\u001b[0m     \u001b[38;5;66;03m# take a fast or slow code path; so stop when t.total==t.n\u001b[39;00m\n\u001b[0;32m    911\u001b[0m     t\u001b[38;5;241m.\u001b[39mupdate(n\u001b[38;5;241m=\u001b[39m\u001b[38;5;241m1\u001b[39m \u001b[38;5;28;01mif\u001b[39;00m \u001b[38;5;129;01mnot\u001b[39;00m t\u001b[38;5;241m.\u001b[39mtotal \u001b[38;5;129;01mor\u001b[39;00m t\u001b[38;5;241m.\u001b[39mn \u001b[38;5;241m<\u001b[39m t\u001b[38;5;241m.\u001b[39mtotal \u001b[38;5;28;01melse\u001b[39;00m \u001b[38;5;241m0\u001b[39m)\n\u001b[1;32m--> 912\u001b[0m     \u001b[38;5;28;01mreturn\u001b[39;00m func(\u001b[38;5;241m*\u001b[39margs, \u001b[38;5;241m*\u001b[39m\u001b[38;5;241m*\u001b[39mkwargs)\n",
      "Cell \u001b[1;32mIn[48], line 2\u001b[0m, in \u001b[0;36mtokenize\u001b[1;34m(text)\u001b[0m\n\u001b[0;32m      1\u001b[0m \u001b[38;5;28;01mdef\u001b[39;00m \u001b[38;5;21mtokenize\u001b[39m(text):\n\u001b[1;32m----> 2\u001b[0m     doc \u001b[38;5;241m=\u001b[39m \u001b[43mnlp\u001b[49m\u001b[43m(\u001b[49m\u001b[43mtext\u001b[49m\u001b[43m)\u001b[49m\n\u001b[0;32m      3\u001b[0m     tokens \u001b[38;5;241m=\u001b[39m [tok\u001b[38;5;241m.\u001b[39mtext \u001b[38;5;28;01mfor\u001b[39;00m tok \u001b[38;5;129;01min\u001b[39;00m doc]\n\u001b[0;32m      4\u001b[0m     \u001b[38;5;28;01mreturn\u001b[39;00m tokens\n",
      "File \u001b[1;32m~\\AppData\\Local\\Packages\\PythonSoftwareFoundation.Python.3.10_qbz5n2kfra8p0\\LocalCache\\local-packages\\Python310\\site-packages\\spacy\\language.py:1052\u001b[0m, in \u001b[0;36mLanguage.__call__\u001b[1;34m(self, text, disable, component_cfg)\u001b[0m\n\u001b[0;32m   1050\u001b[0m     error_handler \u001b[38;5;241m=\u001b[39m proc\u001b[38;5;241m.\u001b[39mget_error_handler()\n\u001b[0;32m   1051\u001b[0m \u001b[38;5;28;01mtry\u001b[39;00m:\n\u001b[1;32m-> 1052\u001b[0m     doc \u001b[38;5;241m=\u001b[39m proc(doc, \u001b[38;5;241m*\u001b[39m\u001b[38;5;241m*\u001b[39mcomponent_cfg\u001b[38;5;241m.\u001b[39mget(name, {}))  \u001b[38;5;66;03m# type: ignore[call-arg]\u001b[39;00m\n\u001b[0;32m   1053\u001b[0m \u001b[38;5;28;01mexcept\u001b[39;00m \u001b[38;5;167;01mKeyError\u001b[39;00m \u001b[38;5;28;01mas\u001b[39;00m e:\n\u001b[0;32m   1054\u001b[0m     \u001b[38;5;66;03m# This typically happens if a component is not initialized\u001b[39;00m\n\u001b[0;32m   1055\u001b[0m     \u001b[38;5;28;01mraise\u001b[39;00m \u001b[38;5;167;01mValueError\u001b[39;00m(Errors\u001b[38;5;241m.\u001b[39mE109\u001b[38;5;241m.\u001b[39mformat(name\u001b[38;5;241m=\u001b[39mname)) \u001b[38;5;28;01mfrom\u001b[39;00m \u001b[38;5;21;01me\u001b[39;00m\n",
      "File \u001b[1;32m~\\AppData\\Local\\Packages\\PythonSoftwareFoundation.Python.3.10_qbz5n2kfra8p0\\LocalCache\\local-packages\\Python310\\site-packages\\spacy\\pipeline\\trainable_pipe.pyx:52\u001b[0m, in \u001b[0;36mspacy.pipeline.trainable_pipe.TrainablePipe.__call__\u001b[1;34m()\u001b[0m\n",
      "File \u001b[1;32m~\\AppData\\Local\\Packages\\PythonSoftwareFoundation.Python.3.10_qbz5n2kfra8p0\\LocalCache\\local-packages\\Python310\\site-packages\\spacy\\pipeline\\edit_tree_lemmatizer.py:169\u001b[0m, in \u001b[0;36mEditTreeLemmatizer.predict\u001b[1;34m(self, docs)\u001b[0m\n\u001b[0;32m    167\u001b[0m     \u001b[38;5;28;01massert\u001b[39;00m \u001b[38;5;28mlen\u001b[39m(guesses) \u001b[38;5;241m==\u001b[39m n_docs\n\u001b[0;32m    168\u001b[0m     \u001b[38;5;28;01mreturn\u001b[39;00m guesses\n\u001b[1;32m--> 169\u001b[0m scores \u001b[38;5;241m=\u001b[39m \u001b[38;5;28;43mself\u001b[39;49m\u001b[38;5;241;43m.\u001b[39;49m\u001b[43mmodel\u001b[49m\u001b[38;5;241;43m.\u001b[39;49m\u001b[43mpredict\u001b[49m\u001b[43m(\u001b[49m\u001b[43mdocs\u001b[49m\u001b[43m)\u001b[49m\n\u001b[0;32m    170\u001b[0m \u001b[38;5;28;01massert\u001b[39;00m \u001b[38;5;28mlen\u001b[39m(scores) \u001b[38;5;241m==\u001b[39m n_docs\n\u001b[0;32m    171\u001b[0m guesses \u001b[38;5;241m=\u001b[39m scores2guesses(docs, scores)\n",
      "File \u001b[1;32m~\\AppData\\Local\\Packages\\PythonSoftwareFoundation.Python.3.10_qbz5n2kfra8p0\\LocalCache\\local-packages\\Python310\\site-packages\\thinc\\model.py:334\u001b[0m, in \u001b[0;36mModel.predict\u001b[1;34m(self, X)\u001b[0m\n\u001b[0;32m    330\u001b[0m \u001b[38;5;28;01mdef\u001b[39;00m \u001b[38;5;21mpredict\u001b[39m(\u001b[38;5;28mself\u001b[39m, X: InT) \u001b[38;5;241m-\u001b[39m\u001b[38;5;241m>\u001b[39m OutT:\n\u001b[0;32m    331\u001b[0m \u001b[38;5;250m    \u001b[39m\u001b[38;5;124;03m\"\"\"Call the model's `forward` function with `is_train=False`, and return\u001b[39;00m\n\u001b[0;32m    332\u001b[0m \u001b[38;5;124;03m    only the output, instead of the `(output, callback)` tuple.\u001b[39;00m\n\u001b[0;32m    333\u001b[0m \u001b[38;5;124;03m    \"\"\"\u001b[39;00m\n\u001b[1;32m--> 334\u001b[0m     \u001b[38;5;28;01mreturn\u001b[39;00m \u001b[38;5;28;43mself\u001b[39;49m\u001b[38;5;241;43m.\u001b[39;49m\u001b[43m_func\u001b[49m\u001b[43m(\u001b[49m\u001b[38;5;28;43mself\u001b[39;49m\u001b[43m,\u001b[49m\u001b[43m \u001b[49m\u001b[43mX\u001b[49m\u001b[43m,\u001b[49m\u001b[43m \u001b[49m\u001b[43mis_train\u001b[49m\u001b[38;5;241;43m=\u001b[39;49m\u001b[38;5;28;43;01mFalse\u001b[39;49;00m\u001b[43m)\u001b[49m[\u001b[38;5;241m0\u001b[39m]\n",
      "File \u001b[1;32m~\\AppData\\Local\\Packages\\PythonSoftwareFoundation.Python.3.10_qbz5n2kfra8p0\\LocalCache\\local-packages\\Python310\\site-packages\\thinc\\layers\\chain.py:54\u001b[0m, in \u001b[0;36mforward\u001b[1;34m(model, X, is_train)\u001b[0m\n\u001b[0;32m     52\u001b[0m callbacks \u001b[38;5;241m=\u001b[39m []\n\u001b[0;32m     53\u001b[0m \u001b[38;5;28;01mfor\u001b[39;00m layer \u001b[38;5;129;01min\u001b[39;00m model\u001b[38;5;241m.\u001b[39mlayers:\n\u001b[1;32m---> 54\u001b[0m     Y, inc_layer_grad \u001b[38;5;241m=\u001b[39m \u001b[43mlayer\u001b[49m\u001b[43m(\u001b[49m\u001b[43mX\u001b[49m\u001b[43m,\u001b[49m\u001b[43m \u001b[49m\u001b[43mis_train\u001b[49m\u001b[38;5;241;43m=\u001b[39;49m\u001b[43mis_train\u001b[49m\u001b[43m)\u001b[49m\n\u001b[0;32m     55\u001b[0m     callbacks\u001b[38;5;241m.\u001b[39mappend(inc_layer_grad)\n\u001b[0;32m     56\u001b[0m     X \u001b[38;5;241m=\u001b[39m Y\n",
      "File \u001b[1;32m~\\AppData\\Local\\Packages\\PythonSoftwareFoundation.Python.3.10_qbz5n2kfra8p0\\LocalCache\\local-packages\\Python310\\site-packages\\thinc\\model.py:310\u001b[0m, in \u001b[0;36mModel.__call__\u001b[1;34m(self, X, is_train)\u001b[0m\n\u001b[0;32m    307\u001b[0m \u001b[38;5;28;01mdef\u001b[39;00m \u001b[38;5;21m__call__\u001b[39m(\u001b[38;5;28mself\u001b[39m, X: InT, is_train: \u001b[38;5;28mbool\u001b[39m) \u001b[38;5;241m-\u001b[39m\u001b[38;5;241m>\u001b[39m Tuple[OutT, Callable]:\n\u001b[0;32m    308\u001b[0m \u001b[38;5;250m    \u001b[39m\u001b[38;5;124;03m\"\"\"Call the model's `forward` function, returning the output and a\u001b[39;00m\n\u001b[0;32m    309\u001b[0m \u001b[38;5;124;03m    callback to compute the gradients via backpropagation.\"\"\"\u001b[39;00m\n\u001b[1;32m--> 310\u001b[0m     \u001b[38;5;28;01mreturn\u001b[39;00m \u001b[38;5;28;43mself\u001b[39;49m\u001b[38;5;241;43m.\u001b[39;49m\u001b[43m_func\u001b[49m\u001b[43m(\u001b[49m\u001b[38;5;28;43mself\u001b[39;49m\u001b[43m,\u001b[49m\u001b[43m \u001b[49m\u001b[43mX\u001b[49m\u001b[43m,\u001b[49m\u001b[43m \u001b[49m\u001b[43mis_train\u001b[49m\u001b[38;5;241;43m=\u001b[39;49m\u001b[43mis_train\u001b[49m\u001b[43m)\u001b[49m\n",
      "File \u001b[1;32m~\\AppData\\Local\\Packages\\PythonSoftwareFoundation.Python.3.10_qbz5n2kfra8p0\\LocalCache\\local-packages\\Python310\\site-packages\\thinc\\layers\\with_array.py:42\u001b[0m, in \u001b[0;36mforward\u001b[1;34m(model, Xseq, is_train)\u001b[0m\n\u001b[0;32m     40\u001b[0m     \u001b[38;5;28;01mreturn\u001b[39;00m model\u001b[38;5;241m.\u001b[39mlayers[\u001b[38;5;241m0\u001b[39m](Xseq, is_train)\n\u001b[0;32m     41\u001b[0m \u001b[38;5;28;01melse\u001b[39;00m:\n\u001b[1;32m---> 42\u001b[0m     \u001b[38;5;28;01mreturn\u001b[39;00m cast(Tuple[SeqT, Callable], \u001b[43m_list_forward\u001b[49m\u001b[43m(\u001b[49m\u001b[43mmodel\u001b[49m\u001b[43m,\u001b[49m\u001b[43m \u001b[49m\u001b[43mXseq\u001b[49m\u001b[43m,\u001b[49m\u001b[43m \u001b[49m\u001b[43mis_train\u001b[49m\u001b[43m)\u001b[49m)\n",
      "File \u001b[1;32m~\\AppData\\Local\\Packages\\PythonSoftwareFoundation.Python.3.10_qbz5n2kfra8p0\\LocalCache\\local-packages\\Python310\\site-packages\\thinc\\layers\\with_array.py:77\u001b[0m, in \u001b[0;36m_list_forward\u001b[1;34m(model, Xs, is_train)\u001b[0m\n\u001b[0;32m     75\u001b[0m lengths \u001b[38;5;241m=\u001b[39m NUMPY_OPS\u001b[38;5;241m.\u001b[39masarray1i([\u001b[38;5;28mlen\u001b[39m(seq) \u001b[38;5;28;01mfor\u001b[39;00m seq \u001b[38;5;129;01min\u001b[39;00m Xs])\n\u001b[0;32m     76\u001b[0m Xf \u001b[38;5;241m=\u001b[39m layer\u001b[38;5;241m.\u001b[39mops\u001b[38;5;241m.\u001b[39mflatten(Xs, pad\u001b[38;5;241m=\u001b[39mpad)\n\u001b[1;32m---> 77\u001b[0m Yf, get_dXf \u001b[38;5;241m=\u001b[39m \u001b[43mlayer\u001b[49m\u001b[43m(\u001b[49m\u001b[43mXf\u001b[49m\u001b[43m,\u001b[49m\u001b[43m \u001b[49m\u001b[43mis_train\u001b[49m\u001b[43m)\u001b[49m\n\u001b[0;32m     79\u001b[0m \u001b[38;5;28;01mdef\u001b[39;00m \u001b[38;5;21mbackprop\u001b[39m(dYs: ListXd) \u001b[38;5;241m-\u001b[39m\u001b[38;5;241m>\u001b[39m ListXd:\n\u001b[0;32m     80\u001b[0m     dYf \u001b[38;5;241m=\u001b[39m layer\u001b[38;5;241m.\u001b[39mops\u001b[38;5;241m.\u001b[39mflatten(dYs, pad\u001b[38;5;241m=\u001b[39mpad)\n",
      "File \u001b[1;32m~\\AppData\\Local\\Packages\\PythonSoftwareFoundation.Python.3.10_qbz5n2kfra8p0\\LocalCache\\local-packages\\Python310\\site-packages\\thinc\\model.py:310\u001b[0m, in \u001b[0;36mModel.__call__\u001b[1;34m(self, X, is_train)\u001b[0m\n\u001b[0;32m    307\u001b[0m \u001b[38;5;28;01mdef\u001b[39;00m \u001b[38;5;21m__call__\u001b[39m(\u001b[38;5;28mself\u001b[39m, X: InT, is_train: \u001b[38;5;28mbool\u001b[39m) \u001b[38;5;241m-\u001b[39m\u001b[38;5;241m>\u001b[39m Tuple[OutT, Callable]:\n\u001b[0;32m    308\u001b[0m \u001b[38;5;250m    \u001b[39m\u001b[38;5;124;03m\"\"\"Call the model's `forward` function, returning the output and a\u001b[39;00m\n\u001b[0;32m    309\u001b[0m \u001b[38;5;124;03m    callback to compute the gradients via backpropagation.\"\"\"\u001b[39;00m\n\u001b[1;32m--> 310\u001b[0m     \u001b[38;5;28;01mreturn\u001b[39;00m \u001b[38;5;28;43mself\u001b[39;49m\u001b[38;5;241;43m.\u001b[39;49m\u001b[43m_func\u001b[49m\u001b[43m(\u001b[49m\u001b[38;5;28;43mself\u001b[39;49m\u001b[43m,\u001b[49m\u001b[43m \u001b[49m\u001b[43mX\u001b[49m\u001b[43m,\u001b[49m\u001b[43m \u001b[49m\u001b[43mis_train\u001b[49m\u001b[38;5;241;43m=\u001b[39;49m\u001b[43mis_train\u001b[49m\u001b[43m)\u001b[49m\n",
      "File \u001b[1;32m~\\AppData\\Local\\Packages\\PythonSoftwareFoundation.Python.3.10_qbz5n2kfra8p0\\LocalCache\\local-packages\\Python310\\site-packages\\thinc\\layers\\softmax.py:71\u001b[0m, in \u001b[0;36mforward\u001b[1;34m(model, X, is_train)\u001b[0m\n\u001b[0;32m     69\u001b[0m W \u001b[38;5;241m=\u001b[39m cast(Floats2d, model\u001b[38;5;241m.\u001b[39mget_param(\u001b[38;5;124m\"\u001b[39m\u001b[38;5;124mW\u001b[39m\u001b[38;5;124m\"\u001b[39m))\n\u001b[0;32m     70\u001b[0m b \u001b[38;5;241m=\u001b[39m cast(Floats1d, model\u001b[38;5;241m.\u001b[39mget_param(\u001b[38;5;124m\"\u001b[39m\u001b[38;5;124mb\u001b[39m\u001b[38;5;124m\"\u001b[39m))\n\u001b[1;32m---> 71\u001b[0m Y \u001b[38;5;241m=\u001b[39m \u001b[43mmodel\u001b[49m\u001b[38;5;241;43m.\u001b[39;49m\u001b[43mops\u001b[49m\u001b[38;5;241;43m.\u001b[39;49m\u001b[43maffine\u001b[49m\u001b[43m(\u001b[49m\u001b[43mX\u001b[49m\u001b[43m,\u001b[49m\u001b[43m \u001b[49m\u001b[43mW\u001b[49m\u001b[43m,\u001b[49m\u001b[43m \u001b[49m\u001b[43mb\u001b[49m\u001b[43m)\u001b[49m\n\u001b[0;32m     73\u001b[0m \u001b[38;5;28;01mif\u001b[39;00m normalize:\n\u001b[0;32m     74\u001b[0m     Y \u001b[38;5;241m=\u001b[39m model\u001b[38;5;241m.\u001b[39mops\u001b[38;5;241m.\u001b[39msoftmax(Y, temperature\u001b[38;5;241m=\u001b[39mtemperature)\n",
      "\u001b[1;31mKeyboardInterrupt\u001b[0m: "
     ]
    }
   ],
   "source": [
    "def tokenize(text):\n",
    "    doc = nlp(text)\n",
    "    tokens = [tok.text for tok in doc]\n",
    "    return tokens\n",
    "\n",
    "df[\"tokens\"] = df[\"transcript\"].progress_apply(tokenize)\n",
    "df.head()"
   ]
  },
  {
   "cell_type": "code",
   "execution_count": null,
   "metadata": {},
   "outputs": [
    {
     "name": "stderr",
     "output_type": "stream",
     "text": [
      "  0%|          | 0/1360 [00:00<?, ?it/s]"
     ]
    },
    {
     "name": "stderr",
     "output_type": "stream",
     "text": [
      "100%|██████████| 1360/1360 [01:14<00:00, 18.31it/s]\n",
      "C:\\Users\\janfs\\AppData\\Local\\Temp\\ipykernel_9284\\1472405454.py:5: SettingWithCopyWarning: \n",
      "A value is trying to be set on a copy of a slice from a DataFrame.\n",
      "Try using .loc[row_indexer,col_indexer] = value instead\n",
      "\n",
      "See the caveats in the documentation: https://pandas.pydata.org/pandas-docs/stable/user_guide/indexing.html#returning-a-view-versus-a-copy\n",
      "  df[\"text_lemmatized\"] = df[\"text_stopwordless\"].progress_apply(lemmatize)\n"
     ]
    }
   ],
   "source": [
    "def lemmatize(text):\n",
    "     doc = nlp(text)\n",
    "     return \" \".join([x.lemma_ for x in doc])\n",
    "\n",
    "df[\"text_lemmatized\"] = df[\"text_stopwordless\"].progress_apply(lemmatize)\n"
   ]
  },
  {
   "cell_type": "code",
   "execution_count": null,
   "metadata": {},
   "outputs": [
    {
     "data": {
      "text/html": [
       "<div>\n",
       "<style scoped>\n",
       "    .dataframe tbody tr th:only-of-type {\n",
       "        vertical-align: middle;\n",
       "    }\n",
       "\n",
       "    .dataframe tbody tr th {\n",
       "        vertical-align: top;\n",
       "    }\n",
       "\n",
       "    .dataframe thead th {\n",
       "        text-align: right;\n",
       "    }\n",
       "</style>\n",
       "<table border=\"1\" class=\"dataframe\">\n",
       "  <thead>\n",
       "    <tr style=\"text-align: right;\">\n",
       "      <th></th>\n",
       "      <th>transcript</th>\n",
       "      <th>gattung</th>\n",
       "      <th>word_count</th>\n",
       "      <th>char_count</th>\n",
       "      <th>clean_text</th>\n",
       "      <th>text_stopwordless</th>\n",
       "      <th>tokens</th>\n",
       "      <th>text_lemmatized</th>\n",
       "    </tr>\n",
       "  </thead>\n",
       "  <tbody>\n",
       "    <tr>\n",
       "      <th>0</th>\n",
       "      <td>Vor der letzten Bundestagswahl waren sie absol...</td>\n",
       "      <td>Umfrage</td>\n",
       "      <td>262</td>\n",
       "      <td>1643</td>\n",
       "      <td>vor der letzten bundestagswahl waren sie absol...</td>\n",
       "      <td>letzten bundestagswahl waren absolut umfrageho...</td>\n",
       "      <td>[Vor, der, letzten, Bundestagswahl, waren, sie...</td>\n",
       "      <td>letzter Bundestagswahl sein absolut Umfragehoc...</td>\n",
       "    </tr>\n",
       "    <tr>\n",
       "      <th>1</th>\n",
       "      <td>He ute ist Weltknuddeltag, was es nicht alles ...</td>\n",
       "      <td>Umfrage</td>\n",
       "      <td>290</td>\n",
       "      <td>1759</td>\n",
       "      <td>he ute ist weltknuddeltag was es nicht alles g...</td>\n",
       "      <td>he ute weltknuddeltag alles gibt weltknuddelta...</td>\n",
       "      <td>[He, ute, ist, Weltknuddeltag, ,, was, es, nic...</td>\n",
       "      <td>he ute Weltknuddeltag alle geben Weltknuddelta...</td>\n",
       "    </tr>\n",
       "    <tr>\n",
       "      <th>2</th>\n",
       "      <td>47 elf, Grrrls Wasser ja, hat meine Mutter imm...</td>\n",
       "      <td>Umfrage</td>\n",
       "      <td>222</td>\n",
       "      <td>1323</td>\n",
       "      <td>47 elf grrrls wasser ja hat meine mutter immer...</td>\n",
       "      <td>47 elf grrrls wasser hat mutter immer gekauft ...</td>\n",
       "      <td>[47, elf, ,, Grrrls, Wasser, ja, ,, hat, meine...</td>\n",
       "      <td>47 elf grrrls Wasser haben Mutter immer kaufen...</td>\n",
       "    </tr>\n",
       "    <tr>\n",
       "      <th>3</th>\n",
       "      <td>Ja, meint die Atmosphäre. Im Endeffekt gehört ...</td>\n",
       "      <td>Umfrage</td>\n",
       "      <td>115</td>\n",
       "      <td>702</td>\n",
       "      <td>ja meint die atmosphäre im endeffekt gehört di...</td>\n",
       "      <td>meint atmosphäre endeffekt gehört leute allem ...</td>\n",
       "      <td>[Ja, ,, meint, die, Atmosphäre, ., Im, Endeffe...</td>\n",
       "      <td>meinen Atmosphäre Endeffekt gehören leute alle...</td>\n",
       "    </tr>\n",
       "    <tr>\n",
       "      <th>4</th>\n",
       "      <td>Gestern Abend großes Familienfest, vielleicht ...</td>\n",
       "      <td>Umfrage</td>\n",
       "      <td>333</td>\n",
       "      <td>2062</td>\n",
       "      <td>gestern abend großes familienfest vielleicht d...</td>\n",
       "      <td>gestern abend großes familienfest vielleicht i...</td>\n",
       "      <td>[Gestern, Abend, großes, Familienfest, ,, viel...</td>\n",
       "      <td>gestern abend groß Familienfest vielleicht ihn...</td>\n",
       "    </tr>\n",
       "  </tbody>\n",
       "</table>\n",
       "</div>"
      ],
      "text/plain": [
       "                                          transcript  gattung  word_count  \\\n",
       "0  Vor der letzten Bundestagswahl waren sie absol...  Umfrage         262   \n",
       "1  He ute ist Weltknuddeltag, was es nicht alles ...  Umfrage         290   \n",
       "2  47 elf, Grrrls Wasser ja, hat meine Mutter imm...  Umfrage         222   \n",
       "3  Ja, meint die Atmosphäre. Im Endeffekt gehört ...  Umfrage         115   \n",
       "4  Gestern Abend großes Familienfest, vielleicht ...  Umfrage         333   \n",
       "\n",
       "   char_count                                         clean_text  \\\n",
       "0        1643  vor der letzten bundestagswahl waren sie absol...   \n",
       "1        1759  he ute ist weltknuddeltag was es nicht alles g...   \n",
       "2        1323  47 elf grrrls wasser ja hat meine mutter immer...   \n",
       "3         702  ja meint die atmosphäre im endeffekt gehört di...   \n",
       "4        2062  gestern abend großes familienfest vielleicht d...   \n",
       "\n",
       "                                   text_stopwordless  \\\n",
       "0  letzten bundestagswahl waren absolut umfrageho...   \n",
       "1  he ute weltknuddeltag alles gibt weltknuddelta...   \n",
       "2  47 elf grrrls wasser hat mutter immer gekauft ...   \n",
       "3  meint atmosphäre endeffekt gehört leute allem ...   \n",
       "4  gestern abend großes familienfest vielleicht i...   \n",
       "\n",
       "                                              tokens  \\\n",
       "0  [Vor, der, letzten, Bundestagswahl, waren, sie...   \n",
       "1  [He, ute, ist, Weltknuddeltag, ,, was, es, nic...   \n",
       "2  [47, elf, ,, Grrrls, Wasser, ja, ,, hat, meine...   \n",
       "3  [Ja, ,, meint, die, Atmosphäre, ., Im, Endeffe...   \n",
       "4  [Gestern, Abend, großes, Familienfest, ,, viel...   \n",
       "\n",
       "                                     text_lemmatized  \n",
       "0  letzter Bundestagswahl sein absolut Umfragehoc...  \n",
       "1  he ute Weltknuddeltag alle geben Weltknuddelta...  \n",
       "2  47 elf grrrls Wasser haben Mutter immer kaufen...  \n",
       "3  meinen Atmosphäre Endeffekt gehören leute alle...  \n",
       "4  gestern abend groß Familienfest vielleicht ihn...  "
      ]
     },
     "execution_count": 29,
     "metadata": {},
     "output_type": "execute_result"
    }
   ],
   "source": [
    "df.head()"
   ]
  },
  {
   "cell_type": "code",
   "execution_count": 49,
   "metadata": {},
   "outputs": [],
   "source": [
    "# load dataframe to save time\n",
    "# try:\n",
    "#     df.to_pickle(\"lemmatized.pkl\")\n",
    "# except:\n",
    "#     df = pd.read_pickle(\"lemmatized.pkl\")\n",
    "\n",
    "df = pd.read_pickle(\"lemmatized.pkl\")"
   ]
  },
  {
   "cell_type": "code",
   "execution_count": null,
   "metadata": {},
   "outputs": [
    {
     "name": "stderr",
     "output_type": "stream",
     "text": [
      "C:\\Users\\janfs\\AppData\\Local\\Temp\\ipykernel_9284\\1734597198.py:1: SettingWithCopyWarning: \n",
      "A value is trying to be set on a copy of a slice from a DataFrame.\n",
      "Try using .loc[row_indexer,col_indexer] = value instead\n",
      "\n",
      "See the caveats in the documentation: https://pandas.pydata.org/pandas-docs/stable/user_guide/indexing.html#returning-a-view-versus-a-copy\n",
      "  df[\"text_lemmatized\"] = df[\"text_lemmatized\"].str.lower()\n"
     ]
    }
   ],
   "source": [
    "df[\"text_lemmatized\"] = df[\"text_lemmatized\"].str.lower()"
   ]
  },
  {
   "cell_type": "code",
   "execution_count": 105,
   "metadata": {},
   "outputs": [],
   "source": [
    "from sklearn.feature_extraction.text import CountVectorizer\n",
    "vectorizer = CountVectorizer(max_features=4000)\n",
    "\n",
    "X = vectorizer.fit_transform(df[\"clean_text\"])\n",
    "\n",
    "import matplotlib.pyplot as plt\n",
    "from sklearn.decomposition import TruncatedSVD\n",
    "\n",
    "# PCA durchführen (auf 2D reduzieren)\n",
    "svd = TruncatedSVD(n_components=2, random_state=42)\n",
    "# pca = PCA(n_components=2)\n",
    "X_pca = svd.fit_transform(X)  # X_count_vectorized = Ihre transformierten Daten"
   ]
  },
  {
   "cell_type": "code",
   "execution_count": 106,
   "metadata": {},
   "outputs": [
    {
     "data": {
      "image/png": "[encoded data removed]",
      "text/plain": [
       "<Figure size 640x480 with 1 Axes>"
      ]
     },
     "metadata": {},
     "output_type": "display_data"
    }
   ],
   "source": [
    "ax = sns.scatterplot(\n",
    "    data=df,\n",
    "    x=X_pca[:, 0],\n",
    "    y=X_pca[:, 1],\n",
    "    hue='gattung',  # Direkte Verwendung der Textkategorien\n",
    "    palette='viridis',\n",
    "    alpha=0.7\n",
    ")"
   ]
  },
  {
   "cell_type": "markdown",
   "metadata": {},
   "source": [
    "Was sind das hier für Ausreißer?"
   ]
  },
  {
   "cell_type": "code",
   "execution_count": 83,
   "metadata": {},
   "outputs": [
    {
     "data": {
      "text/html": [
       "<div>\n",
       "<style scoped>\n",
       "    .dataframe tbody tr th:only-of-type {\n",
       "        vertical-align: middle;\n",
       "    }\n",
       "\n",
       "    .dataframe tbody tr th {\n",
       "        vertical-align: top;\n",
       "    }\n",
       "\n",
       "    .dataframe thead th {\n",
       "        text-align: right;\n",
       "    }\n",
       "</style>\n",
       "<table border=\"1\" class=\"dataframe\">\n",
       "  <thead>\n",
       "    <tr style=\"text-align: right;\">\n",
       "      <th></th>\n",
       "      <th>transcript</th>\n",
       "      <th>gattung</th>\n",
       "      <th>embedding</th>\n",
       "      <th>word_count</th>\n",
       "      <th>char_count</th>\n",
       "      <th>clean_text</th>\n",
       "      <th>avr_sentence_length</th>\n",
       "      <th>gattung_code</th>\n",
       "      <th>text_stopwordless</th>\n",
       "    </tr>\n",
       "  </thead>\n",
       "  <tbody>\n",
       "    <tr>\n",
       "      <th>602</th>\n",
       "      <td>Ich habe eindeutig beobachtet, wie ich selber ...</td>\n",
       "      <td>Interview</td>\n",
       "      <td>0.041198965162038005, -0.041934285312891006, -...</td>\n",
       "      <td>7469</td>\n",
       "      <td>45841</td>\n",
       "      <td>ich habe eindeutig beobachtet wie ich selber ü...</td>\n",
       "      <td>88.01</td>\n",
       "      <td>3</td>\n",
       "      <td>habe eindeutig beobachtet selber überall flach...</td>\n",
       "    </tr>\n",
       "    <tr>\n",
       "      <th>604</th>\n",
       "      <td>Ich habe heimlich den Arzt angerufen, mit vers...</td>\n",
       "      <td>Interview</td>\n",
       "      <td>0.07762149721384001, -0.043992321938276006, -0...</td>\n",
       "      <td>8193</td>\n",
       "      <td>48124</td>\n",
       "      <td>ich habe heimlich den arzt angerufen mit verst...</td>\n",
       "      <td>85.40</td>\n",
       "      <td>3</td>\n",
       "      <td>habe heimlich arzt angerufen verstellter stimm...</td>\n",
       "    </tr>\n",
       "    <tr>\n",
       "      <th>653</th>\n",
       "      <td>Auf die Frage ja, und du bist Sängerin, habe i...</td>\n",
       "      <td>Interview</td>\n",
       "      <td>0.023051939904689, -0.012720310129225, -0.0338...</td>\n",
       "      <td>7197</td>\n",
       "      <td>41805</td>\n",
       "      <td>auf die frage ja und du bist sängerin habe ich...</td>\n",
       "      <td>83.80</td>\n",
       "      <td>3</td>\n",
       "      <td>frage sängerin habe oft geantwortet andere sag...</td>\n",
       "    </tr>\n",
       "    <tr>\n",
       "      <th>666</th>\n",
       "      <td>Wir haben Pläne geschmiedet, einen schönen Wei...</td>\n",
       "      <td>Interview</td>\n",
       "      <td>0.010112901218235, -0.071924060583114, -0.0091...</td>\n",
       "      <td>9390</td>\n",
       "      <td>54171</td>\n",
       "      <td>wir haben pläne geschmiedet einen schönen wein...</td>\n",
       "      <td>76.95</td>\n",
       "      <td>3</td>\n",
       "      <td>haben pläne geschmiedet schönen wein getrunken...</td>\n",
       "    </tr>\n",
       "    <tr>\n",
       "      <th>676</th>\n",
       "      <td>Ey, kann ich sagen mit 70 machen. Ich will doc...</td>\n",
       "      <td>Interview</td>\n",
       "      <td>0.072779603302478, -0.008454346098005001, -0.0...</td>\n",
       "      <td>10002</td>\n",
       "      <td>57297</td>\n",
       "      <td>ey kann ich sagen mit 70 machen ich will doch ...</td>\n",
       "      <td>74.19</td>\n",
       "      <td>3</td>\n",
       "      <td>ey sagen 70 will fahrrad fahren um bisschen fi...</td>\n",
       "    </tr>\n",
       "    <tr>\n",
       "      <th>702</th>\n",
       "      <td>Egal, wie schlimm es aussieht, solange man ges...</td>\n",
       "      <td>Interview</td>\n",
       "      <td>0.105069823563098, -0.010321534238755, -0.0399...</td>\n",
       "      <td>9507</td>\n",
       "      <td>54045</td>\n",
       "      <td>egal wie schlimm es aussieht solange man gesun...</td>\n",
       "      <td>84.25</td>\n",
       "      <td>3</td>\n",
       "      <td>egal schlimm aussieht solange man gesund keine...</td>\n",
       "    </tr>\n",
       "    <tr>\n",
       "      <th>1080</th>\n",
       "      <td>Das muss man sich vorstellen. Der reichste Men...</td>\n",
       "      <td>Bericht in Interviewform</td>\n",
       "      <td>0.09541089832782701, -0.030802305787801004, -0...</td>\n",
       "      <td>8966</td>\n",
       "      <td>55574</td>\n",
       "      <td>das muss man sich vorstellen der reichste mens...</td>\n",
       "      <td>91.62</td>\n",
       "      <td>1</td>\n",
       "      <td>muss man vorstellen reichste mensch welt kommt...</td>\n",
       "    </tr>\n",
       "  </tbody>\n",
       "</table>\n",
       "</div>"
      ],
      "text/plain": [
       "                                             transcript  \\\n",
       "602   Ich habe eindeutig beobachtet, wie ich selber ...   \n",
       "604   Ich habe heimlich den Arzt angerufen, mit vers...   \n",
       "653   Auf die Frage ja, und du bist Sängerin, habe i...   \n",
       "666   Wir haben Pläne geschmiedet, einen schönen Wei...   \n",
       "676   Ey, kann ich sagen mit 70 machen. Ich will doc...   \n",
       "702   Egal, wie schlimm es aussieht, solange man ges...   \n",
       "1080  Das muss man sich vorstellen. Der reichste Men...   \n",
       "\n",
       "                       gattung  \\\n",
       "602                  Interview   \n",
       "604                  Interview   \n",
       "653                  Interview   \n",
       "666                  Interview   \n",
       "676                  Interview   \n",
       "702                  Interview   \n",
       "1080  Bericht in Interviewform   \n",
       "\n",
       "                                              embedding  word_count  \\\n",
       "602   0.041198965162038005, -0.041934285312891006, -...        7469   \n",
       "604   0.07762149721384001, -0.043992321938276006, -0...        8193   \n",
       "653   0.023051939904689, -0.012720310129225, -0.0338...        7197   \n",
       "666   0.010112901218235, -0.071924060583114, -0.0091...        9390   \n",
       "676   0.072779603302478, -0.008454346098005001, -0.0...       10002   \n",
       "702   0.105069823563098, -0.010321534238755, -0.0399...        9507   \n",
       "1080  0.09541089832782701, -0.030802305787801004, -0...        8966   \n",
       "\n",
       "      char_count                                         clean_text  \\\n",
       "602        45841  ich habe eindeutig beobachtet wie ich selber ü...   \n",
       "604        48124  ich habe heimlich den arzt angerufen mit verst...   \n",
       "653        41805  auf die frage ja und du bist sängerin habe ich...   \n",
       "666        54171  wir haben pläne geschmiedet einen schönen wein...   \n",
       "676        57297  ey kann ich sagen mit 70 machen ich will doch ...   \n",
       "702        54045  egal wie schlimm es aussieht solange man gesun...   \n",
       "1080       55574  das muss man sich vorstellen der reichste mens...   \n",
       "\n",
       "      avr_sentence_length  gattung_code  \\\n",
       "602                 88.01             3   \n",
       "604                 85.40             3   \n",
       "653                 83.80             3   \n",
       "666                 76.95             3   \n",
       "676                 74.19             3   \n",
       "702                 84.25             3   \n",
       "1080                91.62             1   \n",
       "\n",
       "                                      text_stopwordless  \n",
       "602   habe eindeutig beobachtet selber überall flach...  \n",
       "604   habe heimlich arzt angerufen verstellter stimm...  \n",
       "653   frage sängerin habe oft geantwortet andere sag...  \n",
       "666   haben pläne geschmiedet schönen wein getrunken...  \n",
       "676   ey sagen 70 will fahrrad fahren um bisschen fi...  \n",
       "702   egal schlimm aussieht solange man gesund keine...  \n",
       "1080  muss man vorstellen reichste mensch welt kommt...  "
      ]
     },
     "execution_count": 83,
     "metadata": {},
     "output_type": "execute_result"
    }
   ],
   "source": [
    "indices = np.where(X_pca[:,0] > 200)[0]\n",
    "df.iloc[indices]"
   ]
  },
  {
   "cell_type": "code",
   "execution_count": 78,
   "metadata": {},
   "outputs": [
    {
     "data": {
      "text/plain": [
       "array([[19.71765828, -7.26659079],\n",
       "       [19.21199838,  1.43674863],\n",
       "       [18.64449059, -0.37032351],\n",
       "       ...,\n",
       "       [34.56993581, -6.25549513],\n",
       "       [11.98379076, -1.52533021],\n",
       "       [13.53851529, -0.85582915]], shape=(1360, 2))"
      ]
     },
     "execution_count": 78,
     "metadata": {},
     "output_type": "execute_result"
    }
   ],
   "source": [
    "X_pca"
   ]
  },
  {
   "cell_type": "markdown",
   "metadata": {},
   "source": [
    "## Bag of Words"
   ]
  },
  {
   "cell_type": "code",
   "execution_count": 107,
   "metadata": {},
   "outputs": [],
   "source": [
    "from sklearn.feature_extraction.text import CountVectorizer"
   ]
  },
  {
   "cell_type": "markdown",
   "metadata": {},
   "source": [
    "### BoW + Naive Bayes"
   ]
  },
  {
   "cell_type": "code",
   "execution_count": 108,
   "metadata": {},
   "outputs": [],
   "source": [
    "from sklearn.model_selection import train_test_split\n",
    "from sklearn.naive_bayes import MultinomialNB\n",
    "from sklearn.metrics import accuracy_score"
   ]
  },
  {
   "cell_type": "code",
   "execution_count": 116,
   "metadata": {},
   "outputs": [
    {
     "name": "stdout",
     "output_type": "stream",
     "text": [
      "Genauigkeit Trainingsset: 0.9163602941176471\n",
      "Genauigkeit Testset: 0.4963235294117647\n"
     ]
    }
   ],
   "source": [
    "vectorizer = CountVectorizer(max_features=4000)\n",
    "\n",
    "X = vectorizer.fit_transform(df[\"clean_text\"])\n",
    "\n",
    "y = df['gattung']\n",
    "X_train, X_test, y_train, y_test = train_test_split(X, y, test_size=0.2, random_state=42)\n",
    "\n",
    "model = MultinomialNB()\n",
    "model.fit(X_train, y_train)\n",
    "\n",
    "print(\"Genauigkeit Trainingsset:\", model.score(X_train, y_train))\n",
    "print(\"Genauigkeit Testset:\", model.score(X_test, y_test))"
   ]
  },
  {
   "cell_type": "markdown",
   "metadata": {},
   "source": [
    "Overfitting!"
   ]
  },
  {
   "cell_type": "markdown",
   "metadata": {},
   "source": [
    "### BoW + Logistic Regression"
   ]
  },
  {
   "cell_type": "code",
   "execution_count": 119,
   "metadata": {},
   "outputs": [
    {
     "name": "stderr",
     "output_type": "stream",
     "text": [
      "C:\\Users\\janfs\\Projekte\\Python Projekte\\2015 nlp-genres\\.venv\\lib\\site-packages\\sklearn\\linear_model\\_logistic.py:1256: FutureWarning: 'multi_class' was deprecated in version 1.5 and will be removed in 1.7. Use OneVsRestClassifier(LogisticRegression(..)) instead. Leave it to its default value to avoid this warning.\n",
      "  warnings.warn(\n"
     ]
    },
    {
     "name": "stdout",
     "output_type": "stream",
     "text": [
      "Genauigkeit Trainingsset: 0.9889705882352942\n",
      "Genauigkeit Testset: 0.6139705882352942\n"
     ]
    }
   ],
   "source": [
    "from sklearn.linear_model import LogisticRegression\n",
    "\n",
    "vectorizer = CountVectorizer(max_features=8000)\n",
    "X = vectorizer.fit_transform(df[\"text_stopwordless\"])\n",
    "\n",
    "y = df['gattung']\n",
    "X_train, X_test, y_train, y_test = train_test_split(X, y, test_size=0.2, random_state=42)\n",
    "\n",
    "model = LogisticRegression(multi_class='ovr', max_iter=10000)\n",
    "model.fit(X_train, y_train)\n",
    "\n",
    "print(\"Genauigkeit Trainingsset:\", model.score(X_train, y_train))\n",
    "print(\"Genauigkeit Testset:\", model.score(X_test, y_test))"
   ]
  },
  {
   "cell_type": "markdown",
   "metadata": {},
   "source": [
    "Overfitting!"
   ]
  },
  {
   "cell_type": "markdown",
   "metadata": {},
   "source": [
    "### BoW + Support Vector Machines"
   ]
  },
  {
   "cell_type": "code",
   "execution_count": 121,
   "metadata": {},
   "outputs": [
    {
     "name": "stdout",
     "output_type": "stream",
     "text": [
      "Beste Parameter: {'C': 10, 'gamma': 'scale', 'kernel': 'rbf'}\n",
      "Bester Score: 0.6121080214500606\n"
     ]
    }
   ],
   "source": [
    "from sklearn.svm import SVC\n",
    "from sklearn.model_selection import GridSearchCV\n",
    "\n",
    "vectorizer = CountVectorizer(max_features=8000)\n",
    "X = vectorizer.fit_transform(df[\"clean_text\"])\n",
    "\n",
    "y = df['gattung']\n",
    "X_train, X_test, y_train, y_test = train_test_split(X, y, test_size=0.2, random_state=42)\n",
    "\n",
    "param_grid = {\n",
    "    'C': [0.1, 1, 10],\n",
    "    'kernel': ['linear', 'rbf'],\n",
    "    'gamma': ['scale']\n",
    "}\n",
    "\n",
    "svc = SVC()\n",
    "\n",
    "grid_search = GridSearchCV(estimator=svc, param_grid=param_grid, cv=3, scoring='accuracy', n_jobs=-1)\n",
    "\n",
    "grid_search.fit(X_train, y_train)\n",
    "\n",
    "print(\"Beste Parameter:\", grid_search.best_params_)\n",
    "print(\"Bester Score:\", grid_search.best_score_)\n",
    "\n",
    "# model = SVC(kernel='linear', C=1.0)\n",
    "# model.fit(X_train, y_train)\n",
    "# y_pred = model.predict(X_test)\n",
    "# accuracy = accuracy_score(y_test, y_pred)\n",
    "# print(f\"Genauigkeit: {accuracy}\")"
   ]
  },
  {
   "cell_type": "code",
   "execution_count": 123,
   "metadata": {},
   "outputs": [
    {
     "name": "stdout",
     "output_type": "stream",
     "text": [
      "Genauigkeit Trainingsset: 0.9797794117647058\n",
      "Genauigkeit Testset: 0.7095588235294118\n"
     ]
    }
   ],
   "source": [
    "model = SVC(C=10, gamma=\"scale\", kernel=\"rbf\")\n",
    "model.fit(X_train, y_train)\n",
    "\n",
    "print(\"Genauigkeit Trainingsset:\", model.score(X_train, y_train))\n",
    "print(\"Genauigkeit Testset:\", model.score(X_test, y_test))"
   ]
  },
  {
   "cell_type": "markdown",
   "metadata": {},
   "source": [
    "Immer noch ein bisschen Overfitting, aber besser"
   ]
  },
  {
   "cell_type": "markdown",
   "metadata": {},
   "source": [
    "### BoW + Decision Tree"
   ]
  },
  {
   "cell_type": "code",
   "execution_count": 126,
   "metadata": {},
   "outputs": [
    {
     "name": "stdout",
     "output_type": "stream",
     "text": [
      "Accuracy: 0.40441176470588236\n",
      "Genauigkeit Trainingsset: 0.9944852941176471\n",
      "Genauigkeit Testset: 0.40441176470588236\n"
     ]
    }
   ],
   "source": [
    "from sklearn.tree import DecisionTreeClassifier\n",
    "\n",
    "vectorizer = CountVectorizer(max_features=2000)\n",
    "X = vectorizer.fit_transform(df[\"clean_text\"])\n",
    "\n",
    "y = df['gattung']\n",
    "X_train, X_test, y_train, y_test = train_test_split(X, y, test_size=0.2, random_state=42)\n",
    "\n",
    "dt_classifier = DecisionTreeClassifier(random_state=42)\n",
    "dt_classifier.fit(X_train, y_train)\n",
    "\n",
    "print(\"Genauigkeit Trainingsset:\", dt_classifier.score(X_train, y_train))\n",
    "print(\"Genauigkeit Testset:\", dt_classifier.score(X_test, y_test))"
   ]
  },
  {
   "cell_type": "markdown",
   "metadata": {},
   "source": [
    "Overfitting!"
   ]
  },
  {
   "cell_type": "markdown",
   "metadata": {},
   "source": [
    "### BoW + Random Forest"
   ]
  },
  {
   "cell_type": "code",
   "execution_count": 127,
   "metadata": {},
   "outputs": [
    {
     "name": "stdout",
     "output_type": "stream",
     "text": [
      "Accuracy: 0.6176470588235294\n",
      "Genauigkeit Trainingsset: 0.9944852941176471\n",
      "Genauigkeit Testset: 0.6176470588235294\n"
     ]
    }
   ],
   "source": [
    "from sklearn.ensemble import RandomForestClassifier\n",
    "\n",
    "vectorizer = CountVectorizer(max_features=5000)\n",
    "X = vectorizer.fit_transform(df[\"clean_text\"])\n",
    "\n",
    "y = df['gattung']\n",
    "X_train, X_test, y_train, y_test = train_test_split(X, y, test_size=0.2, random_state=42)\n",
    "\n",
    "# Vorher: DecisionTreeClassifier\n",
    "rf_classifier = RandomForestClassifier(\n",
    "    n_estimators=100,  # Anzahl Bäume\n",
    "    max_depth=None,     # Begrenzt Baumtiefe\n",
    "    random_state=42,\n",
    "    n_jobs=-1          # Nutzt alle CPU-Kerne\n",
    ")\n",
    "rf_classifier.fit(X_train, y_train)\n",
    "\n",
    "print(\"Genauigkeit Trainingsset:\", rf_classifier.score(X_train, y_train))\n",
    "print(\"Genauigkeit Testset:\", rf_classifier.score(X_test, y_test))"
   ]
  },
  {
   "cell_type": "markdown",
   "metadata": {},
   "source": [
    "Overfitting!"
   ]
  },
  {
   "cell_type": "code",
   "execution_count": 97,
   "metadata": {},
   "outputs": [
    {
     "name": "stdout",
     "output_type": "stream",
     "text": [
      "Fitting 3 folds for each of 18 candidates, totalling 54 fits\n"
     ]
    },
    {
     "data": {
      "text/html": [
       "<style>#sk-container-id-3 {color: black;}#sk-container-id-3 pre{padding: 0;}#sk-container-id-3 div.sk-toggleable {background-color: white;}#sk-container-id-3 label.sk-toggleable__label {cursor: pointer;display: block;width: 100%;margin-bottom: 0;padding: 0.3em;box-sizing: border-box;text-align: center;}#sk-container-id-3 label.sk-toggleable__label-arrow:before {content: \"▸\";float: left;margin-right: 0.25em;color: #696969;}#sk-container-id-3 label.sk-toggleable__label-arrow:hover:before {color: black;}#sk-container-id-3 div.sk-estimator:hover label.sk-toggleable__label-arrow:before {color: black;}#sk-container-id-3 div.sk-toggleable__content {max-height: 0;max-width: 0;overflow: hidden;text-align: left;background-color: #f0f8ff;}#sk-container-id-3 div.sk-toggleable__content pre {margin: 0.2em;color: black;border-radius: 0.25em;background-color: #f0f8ff;}#sk-container-id-3 input.sk-toggleable__control:checked~div.sk-toggleable__content {max-height: 200px;max-width: 100%;overflow: auto;}#sk-container-id-3 input.sk-toggleable__control:checked~label.sk-toggleable__label-arrow:before {content: \"▾\";}#sk-container-id-3 div.sk-estimator input.sk-toggleable__control:checked~label.sk-toggleable__label {background-color: #d4ebff;}#sk-container-id-3 div.sk-label input.sk-toggleable__control:checked~label.sk-toggleable__label {background-color: #d4ebff;}#sk-container-id-3 input.sk-hidden--visually {border: 0;clip: rect(1px 1px 1px 1px);clip: rect(1px, 1px, 1px, 1px);height: 1px;margin: -1px;overflow: hidden;padding: 0;position: absolute;width: 1px;}#sk-container-id-3 div.sk-estimator {font-family: monospace;background-color: #f0f8ff;border: 1px dotted black;border-radius: 0.25em;box-sizing: border-box;margin-bottom: 0.5em;}#sk-container-id-3 div.sk-estimator:hover {background-color: #d4ebff;}#sk-container-id-3 div.sk-parallel-item::after {content: \"\";width: 100%;border-bottom: 1px solid gray;flex-grow: 1;}#sk-container-id-3 div.sk-label:hover label.sk-toggleable__label {background-color: #d4ebff;}#sk-container-id-3 div.sk-serial::before {content: \"\";position: absolute;border-left: 1px solid gray;box-sizing: border-box;top: 0;bottom: 0;left: 50%;z-index: 0;}#sk-container-id-3 div.sk-serial {display: flex;flex-direction: column;align-items: center;background-color: white;padding-right: 0.2em;padding-left: 0.2em;position: relative;}#sk-container-id-3 div.sk-item {position: relative;z-index: 1;}#sk-container-id-3 div.sk-parallel {display: flex;align-items: stretch;justify-content: center;background-color: white;position: relative;}#sk-container-id-3 div.sk-item::before, #sk-container-id-3 div.sk-parallel-item::before {content: \"\";position: absolute;border-left: 1px solid gray;box-sizing: border-box;top: 0;bottom: 0;left: 50%;z-index: -1;}#sk-container-id-3 div.sk-parallel-item {display: flex;flex-direction: column;z-index: 1;position: relative;background-color: white;}#sk-container-id-3 div.sk-parallel-item:first-child::after {align-self: flex-end;width: 50%;}#sk-container-id-3 div.sk-parallel-item:last-child::after {align-self: flex-start;width: 50%;}#sk-container-id-3 div.sk-parallel-item:only-child::after {width: 0;}#sk-container-id-3 div.sk-dashed-wrapped {border: 1px dashed gray;margin: 0 0.4em 0.5em 0.4em;box-sizing: border-box;padding-bottom: 0.4em;background-color: white;}#sk-container-id-3 div.sk-label label {font-family: monospace;font-weight: bold;display: inline-block;line-height: 1.2em;}#sk-container-id-3 div.sk-label-container {text-align: center;}#sk-container-id-3 div.sk-container {/* jupyter's `normalize.less` sets `[hidden] { display: none; }` but bootstrap.min.css set `[hidden] { display: none !important; }` so we also need the `!important` here to be able to override the default hidden behavior on the sphinx rendered scikit-learn.org. See: https://github.com/scikit-learn/scikit-learn/issues/21755 */display: inline-block !important;position: relative;}#sk-container-id-3 div.sk-text-repr-fallback {display: none;}</style><div id=\"sk-container-id-3\" class=\"sk-top-container\"><div class=\"sk-text-repr-fallback\"><pre>GridSearchCV(cv=3, estimator=RandomForestClassifier(n_jobs=-1, random_state=42),\n",
       "             param_grid={&#x27;max_depth&#x27;: [10, 20, None],\n",
       "                         &#x27;max_features&#x27;: [&#x27;sqrt&#x27;, &#x27;log2&#x27;],\n",
       "                         &#x27;n_estimators&#x27;: [200, 300, 400]},\n",
       "             verbose=1)</pre><b>In a Jupyter environment, please rerun this cell to show the HTML representation or trust the notebook. <br />On GitHub, the HTML representation is unable to render, please try loading this page with nbviewer.org.</b></div><div class=\"sk-container\" hidden><div class=\"sk-item sk-dashed-wrapped\"><div class=\"sk-label-container\"><div class=\"sk-label sk-toggleable\"><input class=\"sk-toggleable__control sk-hidden--visually\" id=\"sk-estimator-id-5\" type=\"checkbox\" ><label for=\"sk-estimator-id-5\" class=\"sk-toggleable__label sk-toggleable__label-arrow\">GridSearchCV</label><div class=\"sk-toggleable__content\"><pre>GridSearchCV(cv=3, estimator=RandomForestClassifier(n_jobs=-1, random_state=42),\n",
       "             param_grid={&#x27;max_depth&#x27;: [10, 20, None],\n",
       "                         &#x27;max_features&#x27;: [&#x27;sqrt&#x27;, &#x27;log2&#x27;],\n",
       "                         &#x27;n_estimators&#x27;: [200, 300, 400]},\n",
       "             verbose=1)</pre></div></div></div><div class=\"sk-parallel\"><div class=\"sk-parallel-item\"><div class=\"sk-item\"><div class=\"sk-label-container\"><div class=\"sk-label sk-toggleable\"><input class=\"sk-toggleable__control sk-hidden--visually\" id=\"sk-estimator-id-6\" type=\"checkbox\" ><label for=\"sk-estimator-id-6\" class=\"sk-toggleable__label sk-toggleable__label-arrow\">estimator: RandomForestClassifier</label><div class=\"sk-toggleable__content\"><pre>RandomForestClassifier(n_jobs=-1, random_state=42)</pre></div></div></div><div class=\"sk-serial\"><div class=\"sk-item\"><div class=\"sk-estimator sk-toggleable\"><input class=\"sk-toggleable__control sk-hidden--visually\" id=\"sk-estimator-id-7\" type=\"checkbox\" ><label for=\"sk-estimator-id-7\" class=\"sk-toggleable__label sk-toggleable__label-arrow\">RandomForestClassifier</label><div class=\"sk-toggleable__content\"><pre>RandomForestClassifier(n_jobs=-1, random_state=42)</pre></div></div></div></div></div></div></div></div></div></div>"
      ],
      "text/plain": [
       "GridSearchCV(cv=3, estimator=RandomForestClassifier(n_jobs=-1, random_state=42),\n",
       "             param_grid={'max_depth': [10, 20, None],\n",
       "                         'max_features': ['sqrt', 'log2'],\n",
       "                         'n_estimators': [200, 300, 400]},\n",
       "             verbose=1)"
      ]
     },
     "execution_count": 97,
     "metadata": {},
     "output_type": "execute_result"
    }
   ],
   "source": [
    "param_grid = {\n",
    "    'n_estimators': [200,300,400],\n",
    "    'max_features': ['sqrt', 'log2'],\n",
    "    'max_depth': [10, 20, None]\n",
    "}\n",
    "\n",
    "grid_search = GridSearchCV(rf_classifier, param_grid, cv=3, verbose=1)\n",
    "grid_search.fit(X_train, y_train)"
   ]
  },
  {
   "cell_type": "code",
   "execution_count": 98,
   "metadata": {},
   "outputs": [
    {
     "name": "stdout",
     "output_type": "stream",
     "text": [
      "Beste Parameter: {'max_depth': None, 'max_features': 'sqrt', 'n_estimators': 300}\n",
      "Bester Score: 0.6148603057191706\n"
     ]
    }
   ],
   "source": [
    "print(\"Beste Parameter:\", grid_search.best_params_)\n",
    "print(\"Bester Score:\", grid_search.best_score_)"
   ]
  },
  {
   "cell_type": "markdown",
   "metadata": {},
   "source": [
    "## TF-IDF"
   ]
  },
  {
   "cell_type": "code",
   "execution_count": 99,
   "metadata": {},
   "outputs": [],
   "source": [
    "from sklearn.feature_extraction.text import TfidfVectorizer"
   ]
  },
  {
   "cell_type": "markdown",
   "metadata": {},
   "source": [
    "### TF-IDF + Naive Bayes"
   ]
  },
  {
   "cell_type": "code",
   "execution_count": 103,
   "metadata": {},
   "outputs": [
    {
     "name": "stdout",
     "output_type": "stream",
     "text": [
      "Genauigkeit: 0.44485294117647056\n"
     ]
    }
   ],
   "source": [
    "# TF-IDF statt reinen Wortzählens\n",
    "vectorizer = TfidfVectorizer(max_features=2000)  # 👈 Geändert\n",
    "X = vectorizer.fit_transform(df[\"clean_text\"])\n",
    "\n",
    "y = df['gattung']\n",
    "X_train, X_test, y_train, y_test = train_test_split(X, y, test_size=0.2, random_state=42)\n",
    "\n",
    "model = MultinomialNB()\n",
    "model.fit(X_train, y_train)\n",
    "\n",
    "y_pred = model.predict(X_test)\n",
    "print(\"Genauigkeit:\", accuracy_score(y_test, y_pred))"
   ]
  },
  {
   "cell_type": "markdown",
   "metadata": {},
   "source": [
    "### TF-IDF + Logistic Regreggion"
   ]
  },
  {
   "cell_type": "code",
   "execution_count": 113,
   "metadata": {},
   "outputs": [
    {
     "name": "stdout",
     "output_type": "stream",
     "text": [
      "Genauigkeit: 0.6507352941176471\n"
     ]
    }
   ],
   "source": [
    "from sklearn.linear_model import LogisticRegression\n",
    "\n",
    "vectorizer = TfidfVectorizer(max_features=5000)\n",
    "X = vectorizer.fit_transform(df[\"clean_text\"])\n",
    "\n",
    "y = df['gattung']\n",
    "X_train, X_test, y_train, y_test = train_test_split(X, y, test_size=0.2, random_state=42)\n",
    "\n",
    "model = LogisticRegression(multi_class='ovr', max_iter=10000)\n",
    "model.fit(X_train, y_train)\n",
    "\n",
    "y_pred = model.predict(X_test)\n",
    "accuracy = accuracy_score(y_test, y_pred)\n",
    "print(f\"Genauigkeit: {accuracy}\")"
   ]
  },
  {
   "cell_type": "markdown",
   "metadata": {},
   "source": [
    "### TF-IDF + SVM"
   ]
  },
  {
   "cell_type": "code",
   "execution_count": 116,
   "metadata": {},
   "outputs": [
    {
     "name": "stdout",
     "output_type": "stream",
     "text": [
      "Fitting 3 folds for each of 6 candidates, totalling 18 fits\n",
      "Beste Parameter: {'C': 10, 'gamma': 'scale', 'kernel': 'rbf'}\n",
      "Bester Score: 0.6525577218696255\n"
     ]
    }
   ],
   "source": [
    "vectorizer = TfidfVectorizer(max_features=5000)\n",
    "X = vectorizer.fit_transform(df[\"clean_text\"])\n",
    "\n",
    "y = df['gattung']\n",
    "X_train, X_test, y_train, y_test = train_test_split(X, y, test_size=0.2, random_state=42)\n",
    "\n",
    "param_grid = {\n",
    "    'C': [0.1, 1, 10],\n",
    "    'kernel': ['linear', 'rbf'],\n",
    "    'gamma': ['scale']\n",
    "}\n",
    "\n",
    "svc = SVC()\n",
    "\n",
    "grid_search = GridSearchCV(estimator=svc, param_grid=param_grid, cv=3, scoring='accuracy', n_jobs=-1, verbose=2)\n",
    "\n",
    "grid_search.fit(X_train, y_train)\n",
    "\n",
    "print(\"Beste Parameter:\", grid_search.best_params_)\n",
    "print(\"Bester Score:\", grid_search.best_score_)"
   ]
  },
  {
   "cell_type": "markdown",
   "metadata": {},
   "source": [
    "### TF-IDF + Random Forest"
   ]
  },
  {
   "cell_type": "code",
   "execution_count": 117,
   "metadata": {},
   "outputs": [
    {
     "name": "stdout",
     "output_type": "stream",
     "text": [
      "Accuracy: 0.6176470588235294\n"
     ]
    }
   ],
   "source": [
    "from sklearn.ensemble import RandomForestClassifier\n",
    "\n",
    "vectorizer = TfidfVectorizer(max_features=5000)\n",
    "X = vectorizer.fit_transform(df[\"clean_text\"])\n",
    "\n",
    "y = df['gattung']\n",
    "X_train, X_test, y_train, y_test = train_test_split(X, y, test_size=0.2, random_state=42)\n",
    "\n",
    "# Vorher: DecisionTreeClassifier\n",
    "rf_classifier = RandomForestClassifier(\n",
    "    n_estimators=100,  # Anzahl Bäume\n",
    "    max_depth=None,     # Begrenzt Baumtiefe\n",
    "    random_state=42,\n",
    "    n_jobs=-1          # Nutzt alle CPU-Kerne\n",
    ")\n",
    "rf_classifier.fit(X_train, y_train)\n",
    "\n",
    "y_pred = rf_classifier.predict(X_test)\n",
    "\n",
    "print(\"Accuracy:\", accuracy_score(y_test, y_pred))"
   ]
  },
  {
   "cell_type": "code",
   "execution_count": 118,
   "metadata": {},
   "outputs": [
    {
     "name": "stdout",
     "output_type": "stream",
     "text": [
      "Fitting 3 folds for each of 18 candidates, totalling 54 fits\n",
      "Beste Parameter: {'max_depth': None, 'max_features': 'sqrt', 'n_estimators': 400}\n",
      "Bester Score: 0.6240684088499258\n"
     ]
    }
   ],
   "source": [
    "param_grid = {\n",
    "    'n_estimators': [200,300,400],\n",
    "    'max_features': ['sqrt', 'log2'],\n",
    "    'max_depth': [10, 20, None]\n",
    "}\n",
    "\n",
    "grid_search = GridSearchCV(rf_classifier, param_grid, cv=3, verbose=1)\n",
    "grid_search.fit(X_train, y_train)\n",
    "\n",
    "print(\"Beste Parameter:\", grid_search.best_params_)\n",
    "print(\"Bester Score:\", grid_search.best_score_)"
   ]
  }
 ],
 "metadata": {
  "kernelspec": {
   "display_name": "Python 3 (ipykernel)",
   "language": "python",
   "name": "python3"
  },
  "language_info": {
   "codemirror_mode": {
    "name": "ipython",
    "version": 3
   },
   "file_extension": ".py",
   "mimetype": "text/x-python",
   "name": "python",
   "nbconvert_exporter": "python",
   "pygments_lexer": "ipython3",
   "version": "3.10.11"
  }
 },
 "nbformat": 4,
 "nbformat_minor": 4
}
